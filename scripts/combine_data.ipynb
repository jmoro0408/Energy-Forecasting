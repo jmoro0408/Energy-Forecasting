{
 "cells": [
  {
   "cell_type": "code",
   "execution_count": 1,
   "metadata": {},
   "outputs": [],
   "source": [
    "from pathlib import Path \n",
    "import polars as pl #polars rather than pandas for more efficient memory\n",
    "\n",
    "pl.enable_string_cache(True)"
   ]
  },
  {
   "cell_type": "code",
   "execution_count": 2,
   "metadata": {},
   "outputs": [],
   "source": [
    "WEATHER_LOAD_DIR = Path(Path.cwd().parent, \"data.nosync\", \"raw_data\", \"weather\")\n",
    "LOAD_LOAD_DIR = Path(Path.cwd().parent, \"data.nosync\", \"raw_data\", \"load\")\n",
    "\n",
    "WEATHER_SAVE_DIR = Path(\n",
    "    Path.cwd().parent, \"data.nosync\", \"combined_data\", \"combined_weather.parquet\"\n",
    ")\n",
    "LOAD_SAVE_DIR = Path(\n",
    "    Path.cwd().parent, \"data.nosync\", \"combined_data\", \"combined_load.parquet\"\n",
    ")"
   ]
  },
  {
   "attachments": {},
   "cell_type": "markdown",
   "metadata": {},
   "source": [
    "# Weather"
   ]
  },
  {
   "cell_type": "code",
   "execution_count": 3,
   "metadata": {},
   "outputs": [],
   "source": [
    "weather_schema = {\n",
    "    \"Forecast Date\": str,\n",
    "    \"Vintage Date\": str,\n",
    "    \"Vintage\": pl.Categorical,\n",
    "    \"Station ID\": pl.Categorical,\n",
    "    \"Max Temp\": pl.Int16,\n",
    "    \"Min Temp\": pl.Int16,\n",
    "    \"Max Wet Bulb\": pl.Int16,\n",
    "    \"Min Wet Bulb\": pl.Int16,\n",
    "}"
   ]
  },
  {
   "cell_type": "code",
   "execution_count": 4,
   "metadata": {},
   "outputs": [],
   "source": [
    "weather_files = list(Path.glob(WEATHER_LOAD_DIR, \"*.csv\"))\n",
    "df_weather = pl.read_csv(weather_files[0], dtypes=weather_schema)\n",
    "\n",
    "for file in weather_files[1:]:\n",
    "    df_weather = pl.concat(\n",
    "        [df_weather, pl.read_csv(file, dtypes=weather_schema, ignore_errors=True)],\n",
    "        how=\"diagonal\",\n",
    "    )\n",
    "\n",
    "df_weather = df_weather.with_columns(\n",
    "    [\n",
    "        pl.col(\"Forecast Date\").str.to_date(r\"%m/%d/%Y\"),\n",
    "        pl.col(\"Vintage Date\").str.to_date(r\"%m/%d/%Y\"),\n",
    "    ]\n",
    ")"
   ]
  },
  {
   "cell_type": "code",
   "execution_count": 5,
   "metadata": {},
   "outputs": [],
   "source": [
    "df_weather.write_parquet(WEATHER_SAVE_DIR)"
   ]
  },
  {
   "attachments": {},
   "cell_type": "markdown",
   "metadata": {},
   "source": [
    "# Load"
   ]
  },
  {
   "cell_type": "code",
   "execution_count": 29,
   "metadata": {},
   "outputs": [],
   "source": [
    "load_schema = {\n",
    "    \"Time Stamp\": str,\n",
    "    \"Time Zone\": pl.Categorical,\n",
    "    \"Name\": pl.Categorical,\n",
    "    \"PTID\": pl.Int16,\n",
    "    \"Load\": pl.Float32,\n",
    "}"
   ]
  },
  {
   "cell_type": "code",
   "execution_count": 32,
   "metadata": {},
   "outputs": [],
   "source": [
    "load_files = list(Path.glob(LOAD_LOAD_DIR, \"*.csv\"))\n",
    "df_load = pl.read_csv(load_files[0], dtypes=load_schema)\n",
    "\n",
    "for file in load_files[1:]:\n",
    "    df_load = pl.concat(\n",
    "        [df_load, pl.read_csv(file, dtypes=load_schema, ignore_errors=True)],\n",
    "        how=\"diagonal\",\n",
    "    )\n",
    "\n",
    "df_load = df_load.with_columns(\n",
    "    pl.col(\"Time Stamp\").str.to_datetime(r\"%m/%d/%Y %H:%M:%S\")\n",
    ")"
   ]
  },
  {
   "cell_type": "code",
   "execution_count": 33,
   "metadata": {},
   "outputs": [],
   "source": [
    "df_load.write_parquet(LOAD_SAVE_DIR)"
   ]
  },
  {
   "cell_type": "code",
   "execution_count": null,
   "metadata": {},
   "outputs": [],
   "source": []
  }
 ],
 "metadata": {
  "kernelspec": {
   "display_name": ".venv",
   "language": "python",
   "name": "python3"
  },
  "language_info": {
   "codemirror_mode": {
    "name": "ipython",
    "version": 3
   },
   "file_extension": ".py",
   "mimetype": "text/x-python",
   "name": "python",
   "nbconvert_exporter": "python",
   "pygments_lexer": "ipython3",
   "version": "3.9.7"
  },
  "orig_nbformat": 4
 },
 "nbformat": 4,
 "nbformat_minor": 2
}
