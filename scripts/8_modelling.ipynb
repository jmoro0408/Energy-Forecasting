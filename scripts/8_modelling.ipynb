{
 "cells": [
  {
   "cell_type": "code",
   "execution_count": 1,
   "metadata": {},
   "outputs": [],
   "source": [
    "import time\n",
    "from pathlib import Path\n",
    "\n",
    "import numpy as np\n",
    "import pandas as pd\n",
    "import seaborn as sns\n",
    "from sklearn.linear_model import BayesianRidge, LinearRegression, Ridge\n",
    "from sklearn.metrics import mean_absolute_error, mean_squared_error, r2_score\n",
    "from sklearn.model_selection import TimeSeriesSplit, cross_val_score\n",
    "\n",
    "sns.set_theme(\"paper\")\n",
    "pd.options.mode.chained_assignment = None"
   ]
  },
  {
   "cell_type": "code",
   "execution_count": 2,
   "metadata": {},
   "outputs": [],
   "source": [
    "X_TEST_LOAD_DIR = Path(\n",
    "    Path.cwd().parent, \"data.nosync\", \"transformed_data\", \"X_test.parquet\"\n",
    ")\n",
    "y_TEST_LOAD_DIR = Path(\n",
    "    Path.cwd().parent, \"data.nosync\", \"transformed_data\", \"y_test.parquet\"\n",
    ")\n",
    "\n",
    "X_TRAIN_LOAD_DIR = Path(\n",
    "    Path.cwd().parent, \"data.nosync\", \"transformed_data\", \"X_train.parquet\"\n",
    ")\n",
    "y_TRAIN_LOAD_DIR = Path(\n",
    "    Path.cwd().parent, \"data.nosync\", \"transformed_data\", \"y_train.parquet\"\n",
    ")"
   ]
  },
  {
   "cell_type": "code",
   "execution_count": 3,
   "metadata": {},
   "outputs": [],
   "source": [
    "X_test = pd.read_parquet(X_TEST_LOAD_DIR)\n",
    "y_test = pd.read_parquet(y_TEST_LOAD_DIR)\n",
    "y_train = pd.read_parquet(y_TRAIN_LOAD_DIR)\n",
    "X_train = pd.read_parquet(X_TRAIN_LOAD_DIR)\n",
    "y_test = np.ravel(y_test) # Required for ridge regression\n",
    "y_train = np.ravel(y_train)"
   ]
  },
  {
   "cell_type": "code",
   "execution_count": 4,
   "metadata": {},
   "outputs": [
    {
     "name": "stdout",
     "output_type": "stream",
     "text": [
      "y_train: (9799929, 1)\n",
      "X_train: (9799929, 19)\n",
      "X_test: (4899964, 19)\n",
      "y_test: (4899964, 1)\n"
     ]
    }
   ],
   "source": [
    "print(f\"y_train: {y_train.shape}\")\n",
    "print(f\"X_train: {X_train.shape}\")\n",
    "print(f\"X_test: {X_test.shape}\")\n",
    "print(f\"y_test: {y_test.shape}\")"
   ]
  },
  {
   "cell_type": "markdown",
   "metadata": {},
   "source": [
    "# Modelling\n",
    "## Baseline metrics\n",
    "\n",
    "It's hard to understand how 'good' a result is without a sense of the distribution of target values. "
   ]
  },
  {
   "cell_type": "code",
   "execution_count": 5,
   "metadata": {},
   "outputs": [
    {
     "data": {
      "text/html": [
       "<div>\n",
       "<style scoped>\n",
       "    .dataframe tbody tr th:only-of-type {\n",
       "        vertical-align: middle;\n",
       "    }\n",
       "\n",
       "    .dataframe tbody tr th {\n",
       "        vertical-align: top;\n",
       "    }\n",
       "\n",
       "    .dataframe thead th {\n",
       "        text-align: right;\n",
       "    }\n",
       "</style>\n",
       "<table border=\"1\" class=\"dataframe\">\n",
       "  <thead>\n",
       "    <tr style=\"text-align: right;\">\n",
       "      <th></th>\n",
       "      <th>Load</th>\n",
       "    </tr>\n",
       "  </thead>\n",
       "  <tbody>\n",
       "    <tr>\n",
       "      <th>count</th>\n",
       "      <td>4.899964e+06</td>\n",
       "    </tr>\n",
       "    <tr>\n",
       "      <th>mean</th>\n",
       "      <td>1.704915e+03</td>\n",
       "    </tr>\n",
       "    <tr>\n",
       "      <th>std</th>\n",
       "      <td>1.479828e+03</td>\n",
       "    </tr>\n",
       "    <tr>\n",
       "      <th>min</th>\n",
       "      <td>2.057000e+02</td>\n",
       "    </tr>\n",
       "    <tr>\n",
       "      <th>25%</th>\n",
       "      <td>8.268534e+02</td>\n",
       "    </tr>\n",
       "    <tr>\n",
       "      <th>50%</th>\n",
       "      <td>1.247816e+03</td>\n",
       "    </tr>\n",
       "    <tr>\n",
       "      <th>75%</th>\n",
       "      <td>1.828930e+03</td>\n",
       "    </tr>\n",
       "    <tr>\n",
       "      <th>max</th>\n",
       "      <td>1.111030e+04</td>\n",
       "    </tr>\n",
       "  </tbody>\n",
       "</table>\n",
       "</div>"
      ],
      "text/plain": [
       "               Load\n",
       "count  4.899964e+06\n",
       "mean   1.704915e+03\n",
       "std    1.479828e+03\n",
       "min    2.057000e+02\n",
       "25%    8.268534e+02\n",
       "50%    1.247816e+03\n",
       "75%    1.828930e+03\n",
       "max    1.111030e+04"
      ]
     },
     "execution_count": 5,
     "metadata": {},
     "output_type": "execute_result"
    }
   ],
   "source": [
    "y_test.describe()"
   ]
  },
  {
   "cell_type": "code",
   "execution_count": 6,
   "metadata": {},
   "outputs": [],
   "source": [
    "def calculate_metrics(y_test:pd.DataFrame,y_pred:np.ndarray) -> dict:\n",
    "    rmse = mean_squared_error(y_test, y_pred, squared = False)\n",
    "    mse = mean_squared_error(y_test, y_pred, squared = True)\n",
    "    mae = mean_absolute_error(y_test, y_pred)\n",
    "    r2 = r2_score(y_test, y_pred)\n",
    "    print(f\"\"\"\n",
    "          RMSE: {rmse:.2f} \n",
    "          MSE: {mse:.2f}  \n",
    "          MAE: {mae:.2f}  \n",
    "          R2: {r2:.2f}\"\"\")\n",
    "    return {\"RMSE\":rmse, \"MSE\":mse, \"MAE\":mae, \"R2\":r2}\n",
    "    \n",
    "\n",
    "def calculate_cv_metrics(model, X_train, y_train, n_splits: int = 5) -> dict:\n",
    "      tscv = TimeSeriesSplit(n_splits=5)\n",
    "      rmse = np.sqrt(-cross_val_score(model, X_train, y_train, cv=tscv, scoring='neg_mean_squared_error'))\n",
    "      R2 = cross_val_score(model, X_train, y_train, cv=tscv, scoring='r2')\n",
    "      return {'RMSE':np.mean(rmse), 'R2':np.mean(R2)}\n",
    "      "
   ]
  },
  {
   "cell_type": "code",
   "execution_count": 7,
   "metadata": {},
   "outputs": [],
   "source": [
    "models = [LinearRegression(), Ridge(),BayesianRidge()]\n",
    "# Lasso Regression does not converge\n",
    "results = []\n",
    "timings = []"
   ]
  },
  {
   "cell_type": "code",
   "execution_count": 13,
   "metadata": {},
   "outputs": [
    {
     "name": "stdout",
     "output_type": "stream",
     "text": [
      "model LinearRegression() took 193.66 seconds\n",
      "model Ridge() took 37.85 seconds\n",
      "model BayesianRidge() took 152.9 seconds\n"
     ]
    }
   ],
   "source": [
    "for model in models:\n",
    "    start = time.time()\n",
    "    results.append(calculate_cv_metrics(model, X_train, y_train))\n",
    "    end = time.time()\n",
    "    model_time = end - start\n",
    "    timings.append(model_time)\n",
    "    print(f\"model {model} took {round(model_time, 2)} seconds\")"
   ]
  },
  {
   "cell_type": "code",
   "execution_count": 14,
   "metadata": {},
   "outputs": [
    {
     "data": {
      "text/plain": [
       "[{'RMSE': 1254.092020427405, 'R2': 0.3983675148072827},\n",
       " {'RMSE': 1253.059966799359, 'R2': 0.39942823507159925},\n",
       " {'RMSE': 1254.092020427405, 'R2': 0.3983675148072827},\n",
       " {'RMSE': 1253.059966799359, 'R2': 0.39942823507159925},\n",
       " {'RMSE': 1254.09132664721, 'R2': 0.3983689156087088}]"
      ]
     },
     "execution_count": 14,
     "metadata": {},
     "output_type": "execute_result"
    }
   ],
   "source": [
    "results"
   ]
  },
  {
   "cell_type": "code",
   "execution_count": null,
   "metadata": {},
   "outputs": [],
   "source": []
  }
 ],
 "metadata": {
  "kernelspec": {
   "display_name": ".venv",
   "language": "python",
   "name": "python3"
  },
  "language_info": {
   "codemirror_mode": {
    "name": "ipython",
    "version": 3
   },
   "file_extension": ".py",
   "mimetype": "text/x-python",
   "name": "python",
   "nbconvert_exporter": "python",
   "pygments_lexer": "ipython3",
   "version": "3.9.16"
  },
  "orig_nbformat": 4
 },
 "nbformat": 4,
 "nbformat_minor": 2
}
