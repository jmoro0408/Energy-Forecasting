{
 "cells": [
  {
   "cell_type": "code",
   "execution_count": 1,
   "metadata": {},
   "outputs": [],
   "source": [
    "from pathlib import Path\n",
    "\n",
    "import requests\n",
    "import tomli"
   ]
  },
  {
   "cell_type": "code",
   "execution_count": 2,
   "metadata": {},
   "outputs": [],
   "source": [
    "API_TOML_DIR = Path(Path.cwd().parent, \"api_creds.toml\")"
   ]
  },
  {
   "cell_type": "code",
   "execution_count": 3,
   "metadata": {},
   "outputs": [],
   "source": [
    "with open(API_TOML_DIR, 'rb') as f:\n",
    "    key = tomli.load(f)['api_key']"
   ]
  },
  {
   "cell_type": "code",
   "execution_count": 4,
   "metadata": {},
   "outputs": [],
   "source": [
    "def get_forecast(lat_lon: tuple[float, float], forecast_days:int = 3, api_key: str = key) -> dict:\n",
    "    \"\"\"Gets a forecase for a given lat lon from the https://www.weatherapi.com/ site. \n",
    "    Requires an api key to be defined. \n",
    "\n",
    "    Args:\n",
    "        lat_lon (tuple[float, float]): lat/lon of the location to be forecasted\n",
    "        forecast_days (int, optional): number of days to forecast, note free tier weatherapi is restricted to 14 days. Defaults to 3.\n",
    "        api_key (str, optional): api key for weather api. Defaults to key.\n",
    "\n",
    "    Raises:\n",
    "        SystemExit: generic error catch for incorrect request parameters\n",
    "\n",
    "    Returns:\n",
    "        dict: json of the returned api call#\n",
    "    \"\"\"\n",
    "    BASE_URL = \"https://api.weatherapi.com/v1/forecast.json?\"\n",
    "    str_lat_lon = \",\".join([str(x) for x in lat_lon])\n",
    "    query_params = {\n",
    "    'q': str_lat_lon,\n",
    "    'days': forecast_days, \n",
    "    'key':api_key}\n",
    "    try:\n",
    "        response = requests.get(BASE_URL, params=query_params)\n",
    "    except requests.exceptions.RequestException as e:  # TODO Generic error catching = bad\n",
    "        raise SystemExit(e)\n",
    "    return response.json()"
   ]
  },
  {
   "cell_type": "code",
   "execution_count": 6,
   "metadata": {},
   "outputs": [],
   "source": [
    "def parse_forcast_response(forecast_response_json:dict) -> dict:\n",
    "    num_days_forecasted = len(forecast_response_json['forecast']['forecastday'])\n",
    "    lat = forecast_response_json['location']['lat']\n",
    "    lon = forecast_response_json['location']['lon']\n",
    "    dates = []\n",
    "    max_temps = []\n",
    "    min_temps = []\n",
    "    for day in num_days_forecasted:\n",
    "        dates.append(forecast_response_json['forecast']['forecastday'][day]['date'])\n",
    "        max_temps.append(forecast_response_json['forecast']['forecastday'][day]['day']['maxtemp_c'])\n",
    "        min_temps.append(forecast_response_json['forecast']['forecastday'][day]['day']['mintemp_c'])\n",
    "        \n"
   ]
  },
  {
   "cell_type": "code",
   "execution_count": 7,
   "metadata": {},
   "outputs": [],
   "source": [
    "response_json = get_forecast(lat_lon = (48.5, 2.35))"
   ]
  },
  {
   "cell_type": "code",
   "execution_count": 9,
   "metadata": {},
   "outputs": [
    {
     "data": {
      "text/plain": [
       "dict_keys(['location', 'current', 'forecast'])"
      ]
     },
     "execution_count": 9,
     "metadata": {},
     "output_type": "execute_result"
    }
   ],
   "source": [
    "response_json.keys()"
   ]
  },
  {
   "cell_type": "code",
   "execution_count": 18,
   "metadata": {},
   "outputs": [
    {
     "data": {
      "text/plain": [
       "{'name': 'Mennecy',\n",
       " 'region': 'Ile-de-France',\n",
       " 'country': 'France',\n",
       " 'lat': 48.5,\n",
       " 'lon': 2.35,\n",
       " 'tz_id': 'Europe/Paris',\n",
       " 'localtime_epoch': 1689691749,\n",
       " 'localtime': '2023-07-18 16:49'}"
      ]
     },
     "execution_count": 18,
     "metadata": {},
     "output_type": "execute_result"
    }
   ],
   "source": [
    "response_json['location']"
   ]
  },
  {
   "cell_type": "code",
   "execution_count": null,
   "metadata": {},
   "outputs": [],
   "source": []
  }
 ],
 "metadata": {
  "kernelspec": {
   "display_name": ".venv",
   "language": "python",
   "name": "python3"
  },
  "language_info": {
   "codemirror_mode": {
    "name": "ipython",
    "version": 3
   },
   "file_extension": ".py",
   "mimetype": "text/x-python",
   "name": "python",
   "nbconvert_exporter": "python",
   "pygments_lexer": "ipython3",
   "version": "3.9.15"
  },
  "orig_nbformat": 4
 },
 "nbformat": 4,
 "nbformat_minor": 2
}
