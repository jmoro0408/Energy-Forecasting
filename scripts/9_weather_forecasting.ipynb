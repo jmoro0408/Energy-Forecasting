{
 "cells": [
  {
   "cell_type": "code",
   "execution_count": 50,
   "metadata": {},
   "outputs": [],
   "source": [
    "import json\n",
    "from pathlib import Path\n",
    "\n",
    "import pandas as pd\n",
    "import requests\n",
    "import tomli"
   ]
  },
  {
   "cell_type": "code",
   "execution_count": 59,
   "metadata": {},
   "outputs": [],
   "source": [
    "API_TOML_DIR = Path(Path.cwd().parent, \"api_creds.toml\")\n",
    "WEATHER_LOCATION_MAPPING_DIR = Path(\n",
    "    Path.cwd().parent, \"data_information\", \"weather_location_mapping.json\"\n",
    ")\n",
    "PTID_AREA_MAPPING_DIR = Path(\n",
    "    Path.cwd().parent, \"data_information\", \"PTID_name_mapping.json\"\n",
    ")"
   ]
  },
  {
   "cell_type": "code",
   "execution_count": 52,
   "metadata": {},
   "outputs": [],
   "source": [
    "with open(API_TOML_DIR, \"rb\") as f:\n",
    "    key = tomli.load(f)[\"api_key\"]"
   ]
  },
  {
   "cell_type": "code",
   "execution_count": 53,
   "metadata": {},
   "outputs": [],
   "source": [
    "def get_forecast(\n",
    "    lat_lon: tuple[float, float], forecast_days: int = 3, api_key: str = key\n",
    ") -> dict:\n",
    "    \"\"\"Gets a forecase for a given lat lon from the https://www.weatherapi.com/ site.\n",
    "    Requires an api key to be defined.\n",
    "\n",
    "    Args:\n",
    "        lat_lon (tuple[float, float]): lat/lon of the location to be forecasted\n",
    "        forecast_days (int, optional): number of days to forecast, note free tier weatherapi is restricted to 14 days. Defaults to 3.\n",
    "        api_key (str, optional): api key for weather api. Defaults to key.\n",
    "\n",
    "    Raises:\n",
    "        SystemExit: generic error catch for incorrect request parameters\n",
    "\n",
    "    Returns:\n",
    "        dict: json of the returned api call#\n",
    "    \"\"\"\n",
    "    BASE_URL = \"https://api.weatherapi.com/v1/forecast.json?\"\n",
    "    str_lat_lon = \",\".join([str(x) for x in lat_lon])\n",
    "    query_params = {\"q\": str_lat_lon, \"days\": forecast_days, \"key\": api_key}\n",
    "    try:\n",
    "        response = requests.get(BASE_URL, params=query_params)\n",
    "    except (\n",
    "        requests.exceptions.RequestException\n",
    "    ) as e:  # TODO Generic error catching = bad\n",
    "        raise SystemExit(e)\n",
    "    return response.json()"
   ]
  },
  {
   "cell_type": "code",
   "execution_count": 54,
   "metadata": {},
   "outputs": [],
   "source": [
    "def parse_forcast_response(forecast_response_json: dict) -> dict:\n",
    "    \"\"\"From a full api response dict, extract the latitude, longitude, forecast dates and corresposnding\n",
    "    min and max termperatures forecasted,\n",
    "\n",
    "    Args:\n",
    "        forecast_response_json (dict): full response from get_forecast function\n",
    "\n",
    "    Returns:\n",
    "        dict: latitude, longitude, dates, minmax temp dictionary\n",
    "    \"\"\"\n",
    "    num_days_forecasted = len(forecast_response_json[\"forecast\"][\"forecastday\"])\n",
    "    lat = forecast_response_json[\"location\"][\"lat\"]\n",
    "    lon = forecast_response_json[\"location\"][\"lon\"]\n",
    "    dates = []\n",
    "    max_temps = []\n",
    "    min_temps = []\n",
    "    for day in range(num_days_forecasted):\n",
    "        dates.append(forecast_response_json[\"forecast\"][\"forecastday\"][day][\"date\"])\n",
    "        max_temps.append(\n",
    "            forecast_response_json[\"forecast\"][\"forecastday\"][day][\"day\"][\"maxtemp_c\"]\n",
    "        )\n",
    "        min_temps.append(\n",
    "            forecast_response_json[\"forecast\"][\"forecastday\"][day][\"day\"][\"mintemp_c\"]\n",
    "        )\n",
    "    return {\n",
    "        \"lat\": lat,\n",
    "        \"lon\": lon,\n",
    "        \"dates\": dates,\n",
    "        \"max_temps\": max_temps,\n",
    "        \"min_temps\": min_temps,\n",
    "    }"
   ]
  },
  {
   "cell_type": "code",
   "execution_count": 55,
   "metadata": {},
   "outputs": [],
   "source": [
    "response = parse_forcast_response(get_forecast(lat_lon=(48.5, 2.35)))"
   ]
  },
  {
   "cell_type": "code",
   "execution_count": 56,
   "metadata": {},
   "outputs": [
    {
     "data": {
      "text/html": [
       "<div>\n",
       "<style scoped>\n",
       "    .dataframe tbody tr th:only-of-type {\n",
       "        vertical-align: middle;\n",
       "    }\n",
       "\n",
       "    .dataframe tbody tr th {\n",
       "        vertical-align: top;\n",
       "    }\n",
       "\n",
       "    .dataframe thead th {\n",
       "        text-align: right;\n",
       "    }\n",
       "</style>\n",
       "<table border=\"1\" class=\"dataframe\">\n",
       "  <thead>\n",
       "    <tr style=\"text-align: right;\">\n",
       "      <th></th>\n",
       "      <th>lat</th>\n",
       "      <th>lon</th>\n",
       "      <th>dates</th>\n",
       "      <th>max_temps</th>\n",
       "      <th>min_temps</th>\n",
       "    </tr>\n",
       "  </thead>\n",
       "  <tbody>\n",
       "    <tr>\n",
       "      <th>0</th>\n",
       "      <td>48.5</td>\n",
       "      <td>2.35</td>\n",
       "      <td>2023-07-19</td>\n",
       "      <td>28.1</td>\n",
       "      <td>16.2</td>\n",
       "    </tr>\n",
       "    <tr>\n",
       "      <th>1</th>\n",
       "      <td>48.5</td>\n",
       "      <td>2.35</td>\n",
       "      <td>2023-07-20</td>\n",
       "      <td>27.1</td>\n",
       "      <td>14.1</td>\n",
       "    </tr>\n",
       "    <tr>\n",
       "      <th>2</th>\n",
       "      <td>48.5</td>\n",
       "      <td>2.35</td>\n",
       "      <td>2023-07-21</td>\n",
       "      <td>29.1</td>\n",
       "      <td>14.3</td>\n",
       "    </tr>\n",
       "  </tbody>\n",
       "</table>\n",
       "</div>"
      ],
      "text/plain": [
       "    lat   lon       dates  max_temps  min_temps\n",
       "0  48.5  2.35  2023-07-19       28.1       16.2\n",
       "1  48.5  2.35  2023-07-20       27.1       14.1\n",
       "2  48.5  2.35  2023-07-21       29.1       14.3"
      ]
     },
     "execution_count": 56,
     "metadata": {},
     "output_type": "execute_result"
    }
   ],
   "source": [
    "pd.DataFrame.from_dict(response)"
   ]
  },
  {
   "cell_type": "code",
   "execution_count": 62,
   "metadata": {},
   "outputs": [],
   "source": [
    "mapping_json = json.loads(\n",
    "    Path(WEATHER_LOCATION_MAPPING_DIR).read_text(encoding=\"UTF-8\")\n",
    ")\n",
    "area_lat_lon = mapping_json[\"lat_lon\"]\n",
    "grid_zone_mapping = mapping_json[\"grid_zone\"]"
   ]
  },
  {
   "cell_type": "code",
   "execution_count": 77,
   "metadata": {},
   "outputs": [],
   "source": [
    "ptid_area_mapping = json.loads(Path(PTID_AREA_MAPPING_DIR).read_text(encoding=\"UTF-8\"))"
   ]
  },
  {
   "cell_type": "code",
   "execution_count": 78,
   "metadata": {},
   "outputs": [
    {
     "data": {
      "text/html": [
       "<div>\n",
       "<style scoped>\n",
       "    .dataframe tbody tr th:only-of-type {\n",
       "        vertical-align: middle;\n",
       "    }\n",
       "\n",
       "    .dataframe tbody tr th {\n",
       "        vertical-align: top;\n",
       "    }\n",
       "\n",
       "    .dataframe thead th {\n",
       "        text-align: right;\n",
       "    }\n",
       "</style>\n",
       "<table border=\"1\" class=\"dataframe\">\n",
       "  <thead>\n",
       "    <tr style=\"text-align: right;\">\n",
       "      <th></th>\n",
       "      <th>Lat</th>\n",
       "      <th>Lon</th>\n",
       "      <th>Grid Zone</th>\n",
       "      <th>PTID</th>\n",
       "    </tr>\n",
       "  </thead>\n",
       "  <tbody>\n",
       "    <tr>\n",
       "      <th>ALB</th>\n",
       "      <td>42.652580</td>\n",
       "      <td>-73.756233</td>\n",
       "      <td>CAPITL</td>\n",
       "      <td>61757.0</td>\n",
       "    </tr>\n",
       "    <tr>\n",
       "      <th>ART</th>\n",
       "      <td>43.974785</td>\n",
       "      <td>-75.910759</td>\n",
       "      <td>MHK VL</td>\n",
       "      <td>61756.0</td>\n",
       "    </tr>\n",
       "    <tr>\n",
       "      <th>BGM</th>\n",
       "      <td>42.098843</td>\n",
       "      <td>-75.920647</td>\n",
       "      <td>CENTRL</td>\n",
       "      <td>61754.0</td>\n",
       "    </tr>\n",
       "    <tr>\n",
       "      <th>BUF</th>\n",
       "      <td>42.880230</td>\n",
       "      <td>-78.878738</td>\n",
       "      <td>WEST</td>\n",
       "      <td>61752.0</td>\n",
       "    </tr>\n",
       "    <tr>\n",
       "      <th>ELM</th>\n",
       "      <td>42.084972</td>\n",
       "      <td>-76.798553</td>\n",
       "      <td>CENTRL</td>\n",
       "      <td>61754.0</td>\n",
       "    </tr>\n",
       "  </tbody>\n",
       "</table>\n",
       "</div>"
      ],
      "text/plain": [
       "           Lat         Lon Grid Zone     PTID\n",
       "ALB  42.652580  -73.756233    CAPITL  61757.0\n",
       "ART  43.974785  -75.910759    MHK VL  61756.0\n",
       "BGM  42.098843  -75.920647    CENTRL  61754.0\n",
       "BUF  42.880230  -78.878738      WEST  61752.0\n",
       "ELM  42.084972  -76.798553    CENTRL  61754.0"
      ]
     },
     "execution_count": 78,
     "metadata": {},
     "output_type": "execute_result"
    }
   ],
   "source": [
    "df = pd.DataFrame.from_dict(area_lat_lon).T.rename(columns={0: \"Lat\", 1: \"Lon\"})\n",
    "df[\"Grid Zone\"] = df.index.map(grid_zone_mapping)\n",
    "df[\"PTID\"] = df[\"Grid Zone\"].map(ptid_area_mapping)\n",
    "df.head()"
   ]
  },
  {
   "cell_type": "code",
   "execution_count": null,
   "metadata": {},
   "outputs": [],
   "source": []
  }
 ],
 "metadata": {
  "kernelspec": {
   "display_name": ".venv",
   "language": "python",
   "name": "python3"
  },
  "language_info": {
   "codemirror_mode": {
    "name": "ipython",
    "version": 3
   },
   "file_extension": ".py",
   "mimetype": "text/x-python",
   "name": "python",
   "nbconvert_exporter": "python",
   "pygments_lexer": "ipython3",
   "version": "3.9.16"
  },
  "orig_nbformat": 4
 },
 "nbformat": 4,
 "nbformat_minor": 2
}
