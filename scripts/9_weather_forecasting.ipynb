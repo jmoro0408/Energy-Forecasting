{
 "cells": [
  {
   "cell_type": "code",
   "execution_count": 27,
   "metadata": {},
   "outputs": [],
   "source": [
    "from pathlib import Path\n",
    "\n",
    "import pandas as pd\n",
    "import requests\n",
    "import tomli"
   ]
  },
  {
   "cell_type": "code",
   "execution_count": 2,
   "metadata": {},
   "outputs": [],
   "source": [
    "API_TOML_DIR = Path(Path.cwd().parent, \"api_creds.toml\")"
   ]
  },
  {
   "cell_type": "code",
   "execution_count": 3,
   "metadata": {},
   "outputs": [],
   "source": [
    "with open(API_TOML_DIR, 'rb') as f:\n",
    "    key = tomli.load(f)['api_key']"
   ]
  },
  {
   "cell_type": "code",
   "execution_count": 4,
   "metadata": {},
   "outputs": [],
   "source": [
    "def get_forecast(lat_lon: tuple[float, float], forecast_days:int = 3, api_key: str = key) -> dict:\n",
    "    \"\"\"Gets a forecase for a given lat lon from the https://www.weatherapi.com/ site. \n",
    "    Requires an api key to be defined. \n",
    "\n",
    "    Args:\n",
    "        lat_lon (tuple[float, float]): lat/lon of the location to be forecasted\n",
    "        forecast_days (int, optional): number of days to forecast, note free tier weatherapi is restricted to 14 days. Defaults to 3.\n",
    "        api_key (str, optional): api key for weather api. Defaults to key.\n",
    "\n",
    "    Raises:\n",
    "        SystemExit: generic error catch for incorrect request parameters\n",
    "\n",
    "    Returns:\n",
    "        dict: json of the returned api call#\n",
    "    \"\"\"\n",
    "    BASE_URL = \"https://api.weatherapi.com/v1/forecast.json?\"\n",
    "    str_lat_lon = \",\".join([str(x) for x in lat_lon])\n",
    "    query_params = {\n",
    "    'q': str_lat_lon,\n",
    "    'days': forecast_days, \n",
    "    'key':api_key}\n",
    "    try:\n",
    "        response = requests.get(BASE_URL, params=query_params)\n",
    "    except requests.exceptions.RequestException as e:  # TODO Generic error catching = bad\n",
    "        raise SystemExit(e)\n",
    "    return response.json()"
   ]
  },
  {
   "cell_type": "code",
   "execution_count": 25,
   "metadata": {},
   "outputs": [],
   "source": [
    "def parse_forcast_response(forecast_response_json:dict) -> dict:\n",
    "    num_days_forecasted = len(forecast_response_json['forecast']['forecastday'])\n",
    "    lat = forecast_response_json['location']['lat']\n",
    "    lon = forecast_response_json['location']['lon']\n",
    "    dates = []\n",
    "    max_temps = []\n",
    "    min_temps = []\n",
    "    for day in range(num_days_forecasted):\n",
    "        dates.append(forecast_response_json['forecast']['forecastday'][day]['date'])\n",
    "        max_temps.append(forecast_response_json['forecast']['forecastday'][day]['day']['maxtemp_c'])\n",
    "        min_temps.append(forecast_response_json['forecast']['forecastday'][day]['day']['mintemp_c'])\n",
    "    return {'lat':lat, 'lon':lon, 'dates':dates, 'max_temps':max_temps, 'min_temps':min_temps}"
   ]
  },
  {
   "cell_type": "code",
   "execution_count": 30,
   "metadata": {},
   "outputs": [],
   "source": [
    "response = parse_forcast_response(get_forecast(lat_lon = (48.5, 2.35)))"
   ]
  },
  {
   "cell_type": "code",
   "execution_count": 32,
   "metadata": {},
   "outputs": [
    {
     "data": {
      "text/html": [
       "<div>\n",
       "<style scoped>\n",
       "    .dataframe tbody tr th:only-of-type {\n",
       "        vertical-align: middle;\n",
       "    }\n",
       "\n",
       "    .dataframe tbody tr th {\n",
       "        vertical-align: top;\n",
       "    }\n",
       "\n",
       "    .dataframe thead th {\n",
       "        text-align: right;\n",
       "    }\n",
       "</style>\n",
       "<table border=\"1\" class=\"dataframe\">\n",
       "  <thead>\n",
       "    <tr style=\"text-align: right;\">\n",
       "      <th></th>\n",
       "      <th>lat</th>\n",
       "      <th>lon</th>\n",
       "      <th>dates</th>\n",
       "      <th>max_temps</th>\n",
       "      <th>min_temps</th>\n",
       "    </tr>\n",
       "  </thead>\n",
       "  <tbody>\n",
       "    <tr>\n",
       "      <th>0</th>\n",
       "      <td>48.5</td>\n",
       "      <td>2.35</td>\n",
       "      <td>2023-07-18</td>\n",
       "      <td>34.5</td>\n",
       "      <td>13.0</td>\n",
       "    </tr>\n",
       "    <tr>\n",
       "      <th>1</th>\n",
       "      <td>48.5</td>\n",
       "      <td>2.35</td>\n",
       "      <td>2023-07-19</td>\n",
       "      <td>28.7</td>\n",
       "      <td>15.2</td>\n",
       "    </tr>\n",
       "    <tr>\n",
       "      <th>2</th>\n",
       "      <td>48.5</td>\n",
       "      <td>2.35</td>\n",
       "      <td>2023-07-20</td>\n",
       "      <td>27.2</td>\n",
       "      <td>13.7</td>\n",
       "    </tr>\n",
       "  </tbody>\n",
       "</table>\n",
       "</div>"
      ],
      "text/plain": [
       "    lat   lon       dates  max_temps  min_temps\n",
       "0  48.5  2.35  2023-07-18       34.5       13.0\n",
       "1  48.5  2.35  2023-07-19       28.7       15.2\n",
       "2  48.5  2.35  2023-07-20       27.2       13.7"
      ]
     },
     "execution_count": 32,
     "metadata": {},
     "output_type": "execute_result"
    }
   ],
   "source": [
    "pd.DataFrame.from_dict(response)"
   ]
  },
  {
   "cell_type": "code",
   "execution_count": null,
   "metadata": {},
   "outputs": [],
   "source": []
  }
 ],
 "metadata": {
  "kernelspec": {
   "display_name": ".venv",
   "language": "python",
   "name": "python3"
  },
  "language_info": {
   "codemirror_mode": {
    "name": "ipython",
    "version": 3
   },
   "file_extension": ".py",
   "mimetype": "text/x-python",
   "name": "python",
   "nbconvert_exporter": "python",
   "pygments_lexer": "ipython3",
   "version": "3.9.16"
  },
  "orig_nbformat": 4
 },
 "nbformat": 4,
 "nbformat_minor": 2
}
