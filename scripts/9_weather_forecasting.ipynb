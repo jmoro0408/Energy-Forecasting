{
 "cells": [
  {
   "cell_type": "code",
   "execution_count": 143,
   "metadata": {},
   "outputs": [],
   "source": [
    "import json\n",
    "from dataclasses import dataclass\n",
    "from pathlib import Path\n",
    "\n",
    "import pandas as pd\n",
    "import requests\n",
    "import tomli"
   ]
  },
  {
   "cell_type": "code",
   "execution_count": 144,
   "metadata": {},
   "outputs": [],
   "source": [
    "@dataclass\n",
    "class PredResult:\n",
    "    area: str = None\n",
    "    lat: float = None\n",
    "    lon: float = None\n",
    "    lat_lon: tuple[float, float] = None\n",
    "    grid_zone: str = None\n",
    "    ptid: int = None\n",
    "    date: str = None\n",
    "    max_temp: float = None\n",
    "    min_temp: float = None\n",
    "    load: float = None"
   ]
  },
  {
   "cell_type": "code",
   "execution_count": 145,
   "metadata": {},
   "outputs": [],
   "source": [
    "API_TOML_DIR = Path(Path.cwd().parent, \"api_creds.toml\")\n",
    "WEATHER_LOCATION_MAPPING_DIR = Path(\n",
    "    Path.cwd().parent, \"data_information\", \"weather_location_mapping.json\"\n",
    ")\n",
    "PTID_AREA_MAPPING_DIR = Path(\n",
    "    Path.cwd().parent, \"data_information\", \"PTID_name_mapping.json\"\n",
    ")"
   ]
  },
  {
   "cell_type": "code",
   "execution_count": 146,
   "metadata": {},
   "outputs": [],
   "source": [
    "with open(API_TOML_DIR, \"rb\") as f:\n",
    "    key = tomli.load(f)[\"api_key\"]"
   ]
  },
  {
   "cell_type": "code",
   "execution_count": 147,
   "metadata": {},
   "outputs": [],
   "source": [
    "def get_forecast(\n",
    "    lat_lon: tuple[float, float], forecast_days: int = 3, api_key: str = key\n",
    ") -> dict:\n",
    "    \"\"\"Gets a forecase for a given lat lon from the https://www.weatherapi.com/ site.\n",
    "    Requires an api key to be defined.\n",
    "\n",
    "    Args:\n",
    "        lat_lon (tuple[float, float]): lat/lon of the location to be forecasted\n",
    "        forecast_days (int, optional): number of days to forecast, note free tier weatherapi is restricted to 14 days. Defaults to 3.\n",
    "        api_key (str, optional): api key for weather api. Defaults to key.\n",
    "\n",
    "    Raises:\n",
    "        SystemExit: generic error catch for incorrect request parameters\n",
    "\n",
    "    Returns:\n",
    "        dict: json of the returned api call#\n",
    "    \"\"\"\n",
    "    BASE_URL = \"https://api.weatherapi.com/v1/forecast.json?\"\n",
    "    str_lat_lon = \",\".join([str(x) for x in lat_lon])\n",
    "    query_params = {\"q\": str_lat_lon, \"days\": forecast_days, \"key\": api_key}\n",
    "    try:\n",
    "        response = requests.get(BASE_URL, params=query_params)\n",
    "    except (\n",
    "        requests.exceptions.RequestException\n",
    "    ) as e:  # TODO Generic error catching = bad\n",
    "        raise SystemExit(e)\n",
    "    return response.json()"
   ]
  },
  {
   "cell_type": "code",
   "execution_count": 148,
   "metadata": {},
   "outputs": [],
   "source": [
    "def parse_forcast_response(forecast_response_json: dict) -> dict:\n",
    "    \"\"\"From a full api response dict, extract the latitude, longitude, forecast dates and corresposnding\n",
    "    min and max termperatures forecasted,\n",
    "\n",
    "    Args:\n",
    "        forecast_response_json (dict): full response from get_forecast function\n",
    "\n",
    "    Returns:\n",
    "        dict: latitude, longitude, dates, minmax temp dictionary\n",
    "    \"\"\"\n",
    "    num_days_forecasted = len(forecast_response_json[\"forecast\"][\"forecastday\"])\n",
    "    lat = forecast_response_json[\"location\"][\"lat\"]\n",
    "    lon = forecast_response_json[\"location\"][\"lon\"]\n",
    "    dates = []\n",
    "    max_temps = []\n",
    "    min_temps = []\n",
    "    for day in range(num_days_forecasted):\n",
    "        dates.append(forecast_response_json[\"forecast\"][\"forecastday\"][day][\"date\"])\n",
    "        max_temps.append(\n",
    "            forecast_response_json[\"forecast\"][\"forecastday\"][day][\"day\"][\"maxtemp_c\"]\n",
    "        )\n",
    "        min_temps.append(\n",
    "            forecast_response_json[\"forecast\"][\"forecastday\"][day][\"day\"][\"mintemp_c\"]\n",
    "        )\n",
    "    return {\n",
    "        \"lat\": lat,\n",
    "        \"lon\": lon,\n",
    "        \"dates\": dates,\n",
    "        \"max_temps\": max_temps,\n",
    "        \"min_temps\": min_temps,\n",
    "    }"
   ]
  },
  {
   "cell_type": "code",
   "execution_count": 149,
   "metadata": {},
   "outputs": [],
   "source": [
    "response = parse_forcast_response(get_forecast(lat_lon=(48.5, 2.35)))"
   ]
  },
  {
   "cell_type": "code",
   "execution_count": 150,
   "metadata": {},
   "outputs": [],
   "source": [
    "mapping_json = json.loads(\n",
    "    Path(WEATHER_LOCATION_MAPPING_DIR).read_text(encoding=\"UTF-8\")\n",
    ")\n",
    "area_lat_lon = mapping_json[\"lat_lon\"]\n",
    "grid_zone_mapping = mapping_json[\"grid_zone\"]"
   ]
  },
  {
   "cell_type": "code",
   "execution_count": 151,
   "metadata": {},
   "outputs": [],
   "source": [
    "ptid_area_mapping = json.loads(Path(PTID_AREA_MAPPING_DIR).read_text(encoding=\"UTF-8\"))"
   ]
  },
  {
   "cell_type": "code",
   "execution_count": 152,
   "metadata": {},
   "outputs": [],
   "source": [
    "df = pd.DataFrame.from_dict(area_lat_lon).T.rename(columns={0: \"Lat\", 1: \"Lon\"})\n",
    "df[\"Grid Zone\"] = df.index.map(grid_zone_mapping)\n",
    "df[\"PTID\"] = df[\"Grid Zone\"].map(ptid_area_mapping)\n",
    "df[\"Lat_Lon\"] = tuple(zip(df[\"Lat\"], df[\"Lon\"]))\n",
    "df = df.reset_index(drop=False).rename(columns={\"index\": \"Area\"})"
   ]
  },
  {
   "cell_type": "code",
   "execution_count": 153,
   "metadata": {},
   "outputs": [],
   "source": [
    "# Converting dataframe to list of dataclasses\n",
    "area_info = []  # TODO This is a poor name\n",
    "for row in df.itertuples():\n",
    "    result_class = PredResult()\n",
    "    result_class.area = row.Area\n",
    "    result_class.lat = float(row.Lat)\n",
    "    result_class.lon = float(row.Lon)\n",
    "    result_class.lat_lon = tuple([float(row.Lat), float(row.Lon)])\n",
    "    result_class.grid_zone = (\n",
    "        row._4\n",
    "    )  # Not sure why grid_zone col name hasnt flowed through\n",
    "    result_class.ptid = float(row.PTID)\n",
    "    area_info.append(result_class)"
   ]
  },
  {
   "cell_type": "code",
   "execution_count": 154,
   "metadata": {},
   "outputs": [],
   "source": [
    "def write_forecast_results(\n",
    "    results_list: list[PredResult], **kwargs\n",
    ") -> list[PredResult]:\n",
    "    \"\"\"Gets min/max temperatures for given number of days as specified by\n",
    "    \"forecast_days\" kwarg passed to get_forecast function\n",
    "\n",
    "    Args:\n",
    "        results_list (list[PredResult]): list of PredResult dataclasses holding area info:\n",
    "        area name, lat_lon, grid_zone, ptid\n",
    "\n",
    "    Returns:\n",
    "        list[PredResult]: same list of PredResults with additional date and min/max\n",
    "        forecasted temperature data\n",
    "    \"\"\"\n",
    "    for res in results_list:\n",
    "        forecast = parse_forcast_response(get_forecast(lat_lon=res.lat_lon, **kwargs))\n",
    "        res.date = forecast[\"dates\"]\n",
    "        res.max_temp = forecast[\"max_temps\"]\n",
    "        res.min_temp = forecast[\"min_temps\"]\n",
    "    return results_list"
   ]
  },
  {
   "cell_type": "code",
   "execution_count": 155,
   "metadata": {},
   "outputs": [],
   "source": [
    "forecast_results = write_forecast_results(area_info)"
   ]
  },
  {
   "cell_type": "code",
   "execution_count": 156,
   "metadata": {},
   "outputs": [
    {
     "data": {
      "text/plain": [
       "[PredResult(area='ALB', lat=42.65258, lon=-73.756233, lat_lon=(42.65258, -73.756233), grid_zone='CAPITL', ptid=61757.0, date=['2023-07-19', '2023-07-20', '2023-07-21'], max_temp=[28.6, 30.7, 28.1], min_temp=[17.7, 16.5, 16.6], load=None),\n",
       " PredResult(area='ART', lat=43.974785, lon=-75.910759, lat_lon=(43.974785, -75.910759), grid_zone='MHK VL', ptid=61756.0, date=['2023-07-19', '2023-07-20', '2023-07-21'], max_temp=[25.7, 27.7, 24.1], min_temp=[13.0, 14.4, 16.8], load=None),\n",
       " PredResult(area='BGM', lat=42.098843, lon=-75.920647, lat_lon=(42.098843, -75.920647), grid_zone='CENTRL', ptid=61754.0, date=['2023-07-19', '2023-07-20', '2023-07-21'], max_temp=[25.2, 28.3, 24.0], min_temp=[12.5, 10.2, 14.8], load=None),\n",
       " PredResult(area='BUF', lat=42.88023, lon=-78.878738, lat_lon=(42.88023, -78.878738), grid_zone='WEST', ptid=61752.0, date=['2023-07-19', '2023-07-20', '2023-07-21'], max_temp=[28.9, 29.6, 24.3], min_temp=[17.2, 16.8, 17.3], load=None),\n",
       " PredResult(area='ELM', lat=42.084972, lon=-76.798553, lat_lon=(42.084972, -76.798553), grid_zone='CENTRL', ptid=61754.0, date=['2023-07-19', '2023-07-20', '2023-07-21'], max_temp=[25.0, 28.6, 24.4], min_temp=[11.7, 15.0, 14.6], load=None),\n",
       " PredResult(area='HPN', lat=41.033985, lon=-73.762909, lat_lon=(41.033985, -73.762909), grid_zone='DUNWOD', ptid=61760.0, date=['2023-07-19', '2023-07-20', '2023-07-21'], max_temp=[25.6, 30.9, 27.0], min_temp=[19.7, 19.4, 20.4], load=None),\n",
       " PredResult(area='ISP', lat=40.732071, lon=-73.18618, lat_lon=(40.732071, -73.18618), grid_zone='LONGIL', ptid=61762.0, date=['2023-07-19', '2023-07-20', '2023-07-21'], max_temp=[25.1, 30.2, 27.2], min_temp=[20.8, 20.7, 20.6], load=None),\n",
       " PredResult(area='JFK', lat=40.641766, lon=-73.780968, lat_lon=(40.641766, -73.780968), grid_zone='N.Y.C.', ptid=61761.0, date=['2023-07-19', '2023-07-20', '2023-07-21'], max_temp=[23.2, 31.3, 27.4], min_temp=[21.3, 20.3, 21.6], load=None),\n",
       " PredResult(area='LGA', lat=40.7769, lon=-73.874, lat_lon=(40.7769, -73.874), grid_zone='N.Y.C.', ptid=61761.0, date=['2023-07-19', '2023-07-20', '2023-07-21'], max_temp=[23.5, 31.5, 29.2], min_temp=[20.7, 20.0, 21.5], load=None),\n",
       " PredResult(area='MSS', lat=44.93391, lon=-74.897629, lat_lon=(44.93391, -74.897629), grid_zone='MHK VL', ptid=61756.0, date=['2023-07-19', '2023-07-20', '2023-07-21'], max_temp=[27.9, 28.2, 24.4], min_temp=[15.7, 16.4, 16.1], load=None),\n",
       " PredResult(area='MSV', lat=41.6556, lon=-74.6893, lat_lon=(41.6556, -74.6893), grid_zone='MHK VL', ptid=61756.0, date=['2023-07-19', '2023-07-20', '2023-07-21'], max_temp=[25.7, 28.2, 23.3], min_temp=[14.2, 15.3, 15.5], load=None),\n",
       " PredResult(area='PLB', lat=44.699764, lon=-73.471428, lat_lon=(44.699764, -73.471428), grid_zone='NORTH', ptid=61755.0, date=['2023-07-19', '2023-07-20', '2023-07-21'], max_temp=[27.4, 27.4, 27.4], min_temp=[16.7, 15.0, 17.8], load=None),\n",
       " PredResult(area='POU', lat=41.70829, lon=-73.923912, lat_lon=(41.70829, -73.923912), grid_zone='HUD VL', ptid=61758.0, date=['2023-07-19', '2023-07-20', '2023-07-21'], max_temp=[29.3, 32.3, 24.7], min_temp=[16.6, 16.5, 17.4], load=None),\n",
       " PredResult(area='ROC', lat=43.16103, lon=-77.610924, lat_lon=(43.16103, -77.610924), grid_zone='GENESE', ptid=61753.0, date=['2023-07-19', '2023-07-20', '2023-07-21'], max_temp=[25.2, 29.1, 24.5], min_temp=[15.2, 15.0, 17.1], load=None),\n",
       " PredResult(area='SWF', lat=41.512177, lon=-74.018326, lat_lon=(41.512177, -74.018326), grid_zone='HUD VL', ptid=61758.0, date=['2023-07-19', '2023-07-20', '2023-07-21'], max_temp=[29.1, 31.2, 24.6], min_temp=[17.3, 17.0, 16.9], load=None),\n",
       " PredResult(area='SYR', lat=43.088947, lon=-76.15448, lat_lon=(43.088947, -76.15448), grid_zone='CENTRL', ptid=61754.0, date=['2023-07-19', '2023-07-20', '2023-07-21'], max_temp=[28.3, 29.7, 25.4], min_temp=[14.4, 12.3, 16.9], load=None),\n",
       " PredResult(area='UCA', lat=43.227978, lon=-75.484924, lat_lon=(43.227978, -75.484924), grid_zone='MHK VL', ptid=61756.0, date=['2023-07-19', '2023-07-20', '2023-07-21'], max_temp=[27.2, 28.7, 23.5], min_temp=[14.9, 10.1, 15.9], load=None)]"
      ]
     },
     "execution_count": 156,
     "metadata": {},
     "output_type": "execute_result"
    }
   ],
   "source": [
    "forecast_results"
   ]
  },
  {
   "cell_type": "code",
   "execution_count": null,
   "metadata": {},
   "outputs": [],
   "source": []
  }
 ],
 "metadata": {
  "kernelspec": {
   "display_name": ".venv",
   "language": "python",
   "name": "python3"
  },
  "language_info": {
   "codemirror_mode": {
    "name": "ipython",
    "version": 3
   },
   "file_extension": ".py",
   "mimetype": "text/x-python",
   "name": "python",
   "nbconvert_exporter": "python",
   "pygments_lexer": "ipython3",
   "version": "3.9.16"
  },
  "orig_nbformat": 4
 },
 "nbformat": 4,
 "nbformat_minor": 2
}
