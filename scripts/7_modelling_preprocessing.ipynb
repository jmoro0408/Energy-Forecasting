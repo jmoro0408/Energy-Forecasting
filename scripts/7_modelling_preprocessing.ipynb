{
 "cells": [
  {
   "cell_type": "code",
   "execution_count": 2,
   "metadata": {},
   "outputs": [],
   "source": [
    "from pathlib import Path\n",
    "from typing import Union\n",
    "\n",
    "import matplotlib.pyplot as plt\n",
    "import numpy as np\n",
    "import pandas as pd\n",
    "\n",
    "pd.options.mode.chained_assignment = None\n",
    "import seaborn as sns\n",
    "from sklearn.model_selection import TimeSeriesSplit\n",
    "from sklearn.pipeline import Pipeline\n",
    "from sklearn.preprocessing import FunctionTransformer, StandardScaler\n",
    "\n",
    "from sklearn.experimental import enable_iterative_imputer  # isort: skip\n",
    "from sklearn.impute import IterativeImputer  # isort: skip\n",
    "\n",
    "sns.set_theme(\"paper\")"
   ]
  },
  {
   "cell_type": "code",
   "execution_count": 3,
   "metadata": {},
   "outputs": [],
   "source": [
    "MERGED_LOAD_DIR = Path(\n",
    "    Path.cwd().parent, \"data.nosync\", \"transformed_data\", \"merged.parquet\"\n",
    ")\n",
    "X_TEST_SAVE_DIR = Path(\n",
    "    Path.cwd().parent, \"data.nosync\", \"transformed_data\", \"X_test.parquet\"\n",
    ")\n",
    "y_TEST_SAVE_DIR = Path(\n",
    "    Path.cwd().parent, \"data.nosync\", \"transformed_data\", \"y_test.parquet\"\n",
    ")\n",
    "\n",
    "X_TRAIN_SAVE_DIR = Path(\n",
    "    Path.cwd().parent, \"data.nosync\", \"transformed_data\", \"X_train.parquet\"\n",
    ")\n",
    "y_TRAIN_SAVE_DIR = Path(\n",
    "    Path.cwd().parent, \"data.nosync\", \"transformed_data\", \"y_train.parquet\"\n",
    ")"
   ]
  },
  {
   "cell_type": "code",
   "execution_count": 169,
   "metadata": {},
   "outputs": [],
   "source": [
    "df = pd.read_parquet(MERGED_LOAD_DIR)"
   ]
  },
  {
   "cell_type": "code",
   "execution_count": 170,
   "metadata": {},
   "outputs": [
    {
     "name": "stdout",
     "output_type": "stream",
     "text": [
      "<class 'pandas.core.frame.DataFrame'>\n",
      "RangeIndex: 14700170 entries, 0 to 14700169\n",
      "Data columns (total 13 columns):\n",
      " #   Column        Dtype         \n",
      "---  ------        -----         \n",
      " 0   Time Stamp    datetime64[ns]\n",
      " 1   Name          object        \n",
      " 2   PTID          float32       \n",
      " 3   Load          float32       \n",
      " 4   Year          int32         \n",
      " 5   Month         int32         \n",
      " 6   Day           int32         \n",
      " 7   Minute        int32         \n",
      " 8   Hour          int32         \n",
      " 9   Max Temp      float64       \n",
      " 10  Min Temp      float64       \n",
      " 11  Max Wet Bulb  float64       \n",
      " 12  Min Wet Bulb  float64       \n",
      "dtypes: datetime64[ns](1), float32(2), float64(4), int32(5), object(1)\n",
      "memory usage: 1.0+ GB\n"
     ]
    }
   ],
   "source": [
    "df.info()"
   ]
  },
  {
   "attachments": {},
   "cell_type": "markdown",
   "metadata": {},
   "source": [
    "Looks like all the datatypes are reasonable."
   ]
  },
  {
   "cell_type": "code",
   "execution_count": 171,
   "metadata": {},
   "outputs": [
    {
     "data": {
      "text/plain": [
       "Time Stamp      1469852\n",
       "Name                 10\n",
       "PTID                 10\n",
       "Load            2997398\n",
       "Year                 16\n",
       "Month                12\n",
       "Day                  31\n",
       "Minute               60\n",
       "Hour                 24\n",
       "Max Temp           3295\n",
       "Min Temp           3342\n",
       "Max Wet Bulb       2971\n",
       "Min Wet Bulb       3252\n",
       "dtype: int64"
      ]
     },
     "execution_count": 171,
     "metadata": {},
     "output_type": "execute_result"
    }
   ],
   "source": [
    "df.nunique()"
   ]
  },
  {
   "cell_type": "code",
   "execution_count": 172,
   "metadata": {},
   "outputs": [
    {
     "data": {
      "text/plain": [
       "{'CAPITL': 61757.0,\n",
       " 'CENTRL': 61754.0,\n",
       " 'DUNWOD': 61760.0,\n",
       " 'GENESE': 61753.0,\n",
       " 'HUD VL': 61758.0,\n",
       " 'LONGIL': 61762.0,\n",
       " 'MHK VL': 61756.0,\n",
       " 'N.Y.C.': 61761.0,\n",
       " 'NORTH': 61755.0,\n",
       " 'WEST': 61752.0}"
      ]
     },
     "execution_count": 172,
     "metadata": {},
     "output_type": "execute_result"
    }
   ],
   "source": [
    "name_ptid_mapping_df = df.groupby(\"Name\").apply(lambda x: x[\"PTID\"].unique())\n",
    "name_ptid_mapping = dict(\n",
    "    zip(name_ptid_mapping_df.index, [x[0] for x in name_ptid_mapping_df.values])\n",
    ")\n",
    "name_ptid_mapping"
   ]
  },
  {
   "attachments": {},
   "cell_type": "markdown",
   "metadata": {},
   "source": [
    "Each 'Name' has a unique PTID assosciated with it, therefore we can drop one of these as they are perfectly correlated. Probably drop the name column as we would have to one hot encode this anyway and just use the PTID"
   ]
  },
  {
   "cell_type": "code",
   "execution_count": 173,
   "metadata": {},
   "outputs": [
    {
     "data": {
      "text/plain": [
       "Time Stamp        0\n",
       "Name              0\n",
       "PTID              0\n",
       "Load            277\n",
       "Year              0\n",
       "Month             0\n",
       "Day               0\n",
       "Minute            0\n",
       "Hour              0\n",
       "Max Temp          0\n",
       "Min Temp          0\n",
       "Max Wet Bulb      0\n",
       "Min Wet Bulb      0\n",
       "dtype: int64"
      ]
     },
     "execution_count": 173,
     "metadata": {},
     "output_type": "execute_result"
    }
   ],
   "source": [
    "df.isna().sum()"
   ]
  },
  {
   "attachments": {},
   "cell_type": "markdown",
   "metadata": {},
   "source": [
    "The missing load values will have to be dropped, but we should be able to impute the missing min wet bulb temp from the other columns. "
   ]
  },
  {
   "cell_type": "code",
   "execution_count": 174,
   "metadata": {},
   "outputs": [
    {
     "data": {
      "text/html": [
       "<div>\n",
       "<style scoped>\n",
       "    .dataframe tbody tr th:only-of-type {\n",
       "        vertical-align: middle;\n",
       "    }\n",
       "\n",
       "    .dataframe tbody tr th {\n",
       "        vertical-align: top;\n",
       "    }\n",
       "\n",
       "    .dataframe thead th {\n",
       "        text-align: right;\n",
       "    }\n",
       "</style>\n",
       "<table border=\"1\" class=\"dataframe\">\n",
       "  <thead>\n",
       "    <tr style=\"text-align: right;\">\n",
       "      <th></th>\n",
       "      <th>Time Stamp</th>\n",
       "      <th>Name</th>\n",
       "      <th>PTID</th>\n",
       "      <th>Load</th>\n",
       "      <th>Year</th>\n",
       "      <th>Month</th>\n",
       "      <th>Day</th>\n",
       "      <th>Minute</th>\n",
       "      <th>Hour</th>\n",
       "      <th>Max Temp</th>\n",
       "      <th>Min Temp</th>\n",
       "      <th>Max Wet Bulb</th>\n",
       "      <th>Min Wet Bulb</th>\n",
       "    </tr>\n",
       "  </thead>\n",
       "  <tbody>\n",
       "    <tr>\n",
       "      <th>0</th>\n",
       "      <td>2016-06-22 00:00:00</td>\n",
       "      <td>CAPITL</td>\n",
       "      <td>61757.0</td>\n",
       "      <td>1252.099976</td>\n",
       "      <td>2016</td>\n",
       "      <td>6</td>\n",
       "      <td>22</td>\n",
       "      <td>0</td>\n",
       "      <td>0</td>\n",
       "      <td>27.777778</td>\n",
       "      <td>15.0</td>\n",
       "      <td>18.444444</td>\n",
       "      <td>11.777778</td>\n",
       "    </tr>\n",
       "    <tr>\n",
       "      <th>1</th>\n",
       "      <td>2016-06-22 00:05:00</td>\n",
       "      <td>CAPITL</td>\n",
       "      <td>61757.0</td>\n",
       "      <td>1239.199951</td>\n",
       "      <td>2016</td>\n",
       "      <td>6</td>\n",
       "      <td>22</td>\n",
       "      <td>5</td>\n",
       "      <td>0</td>\n",
       "      <td>27.777778</td>\n",
       "      <td>15.0</td>\n",
       "      <td>18.444444</td>\n",
       "      <td>11.777778</td>\n",
       "    </tr>\n",
       "    <tr>\n",
       "      <th>2</th>\n",
       "      <td>2016-06-22 00:10:00</td>\n",
       "      <td>CAPITL</td>\n",
       "      <td>61757.0</td>\n",
       "      <td>1241.900024</td>\n",
       "      <td>2016</td>\n",
       "      <td>6</td>\n",
       "      <td>22</td>\n",
       "      <td>10</td>\n",
       "      <td>0</td>\n",
       "      <td>27.777778</td>\n",
       "      <td>15.0</td>\n",
       "      <td>18.444444</td>\n",
       "      <td>11.777778</td>\n",
       "    </tr>\n",
       "    <tr>\n",
       "      <th>3</th>\n",
       "      <td>2016-06-22 00:15:00</td>\n",
       "      <td>CAPITL</td>\n",
       "      <td>61757.0</td>\n",
       "      <td>1240.900024</td>\n",
       "      <td>2016</td>\n",
       "      <td>6</td>\n",
       "      <td>22</td>\n",
       "      <td>15</td>\n",
       "      <td>0</td>\n",
       "      <td>27.777778</td>\n",
       "      <td>15.0</td>\n",
       "      <td>18.444444</td>\n",
       "      <td>11.777778</td>\n",
       "    </tr>\n",
       "    <tr>\n",
       "      <th>4</th>\n",
       "      <td>2016-06-22 00:20:00</td>\n",
       "      <td>CAPITL</td>\n",
       "      <td>61757.0</td>\n",
       "      <td>1226.900024</td>\n",
       "      <td>2016</td>\n",
       "      <td>6</td>\n",
       "      <td>22</td>\n",
       "      <td>20</td>\n",
       "      <td>0</td>\n",
       "      <td>27.777778</td>\n",
       "      <td>15.0</td>\n",
       "      <td>18.444444</td>\n",
       "      <td>11.777778</td>\n",
       "    </tr>\n",
       "  </tbody>\n",
       "</table>\n",
       "</div>"
      ],
      "text/plain": [
       "           Time Stamp    Name     PTID         Load  Year  Month  Day  Minute  \\\n",
       "0 2016-06-22 00:00:00  CAPITL  61757.0  1252.099976  2016      6   22       0   \n",
       "1 2016-06-22 00:05:00  CAPITL  61757.0  1239.199951  2016      6   22       5   \n",
       "2 2016-06-22 00:10:00  CAPITL  61757.0  1241.900024  2016      6   22      10   \n",
       "3 2016-06-22 00:15:00  CAPITL  61757.0  1240.900024  2016      6   22      15   \n",
       "4 2016-06-22 00:20:00  CAPITL  61757.0  1226.900024  2016      6   22      20   \n",
       "\n",
       "   Hour   Max Temp  Min Temp  Max Wet Bulb  Min Wet Bulb  \n",
       "0     0  27.777778      15.0     18.444444     11.777778  \n",
       "1     0  27.777778      15.0     18.444444     11.777778  \n",
       "2     0  27.777778      15.0     18.444444     11.777778  \n",
       "3     0  27.777778      15.0     18.444444     11.777778  \n",
       "4     0  27.777778      15.0     18.444444     11.777778  "
      ]
     },
     "execution_count": 174,
     "metadata": {},
     "output_type": "execute_result"
    }
   ],
   "source": [
    "df.head()"
   ]
  },
  {
   "attachments": {},
   "cell_type": "markdown",
   "metadata": {},
   "source": [
    "# Rounding\n",
    "\n",
    "We dont need 6 significant figures for load and temperatures as the sensors are unlikely to be this accurate anyway, we can round these to help speed up our modelling. "
   ]
  },
  {
   "cell_type": "code",
   "execution_count": 130,
   "metadata": {},
   "outputs": [],
   "source": [
    "df[\"Load\"] = df[\"Load\"].round(2)\n",
    "df[\"Max Temp\"] = df[\"Max Temp\"].round(2)\n",
    "df[\"Min Temp\"] = df[\"Min Temp\"].round(2)\n",
    "df[\"Max Wet Bulb\"] = df[\"Max Wet Bulb\"].round(2)\n",
    "df[\"Min Wet Bulb\"] = df[\"Min Wet Bulb\"].round(2)"
   ]
  },
  {
   "attachments": {},
   "cell_type": "markdown",
   "metadata": {},
   "source": [
    "# Cyclical transformations\n",
    "\n",
    "Time features are cyclical in nature, however ML algorithms don't know this and assume that December (12) is very different to January (1). To remedy this we can apply sine/cosine transformations to the data to move the extremities closer together. \n",
    "\n",
    "This can happen before splitting into train/test as no other information from the dataset is required, so no data leakage. "
   ]
  },
  {
   "cell_type": "code",
   "execution_count": 131,
   "metadata": {},
   "outputs": [
    {
     "data": {
      "text/plain": [
       "<Axes: >"
      ]
     },
     "execution_count": 131,
     "metadata": {},
     "output_type": "execute_result"
    },
    {
     "data": {
      "image/png": "[encoded data removed]",
      "text/plain": [
       "<Figure size 640x480 with 1 Axes>"
      ]
     },
     "metadata": {},
     "output_type": "display_data"
    }
   ],
   "source": [
    "# Demonstrating the distribution of minutes prior to transformation\n",
    "df[df[\"Name\"] == \"CAPITL\"].iloc[0:100][\"Minute\"].plot()"
   ]
  },
  {
   "attachments": {},
   "cell_type": "markdown",
   "metadata": {},
   "source": [
    "To Further demonstrate the problem we can look at a subsample of the data"
   ]
  },
  {
   "cell_type": "code",
   "execution_count": 132,
   "metadata": {},
   "outputs": [
    {
     "data": {
      "text/html": [
       "<div>\n",
       "<style scoped>\n",
       "    .dataframe tbody tr th:only-of-type {\n",
       "        vertical-align: middle;\n",
       "    }\n",
       "\n",
       "    .dataframe tbody tr th {\n",
       "        vertical-align: top;\n",
       "    }\n",
       "\n",
       "    .dataframe thead th {\n",
       "        text-align: right;\n",
       "    }\n",
       "</style>\n",
       "<table border=\"1\" class=\"dataframe\">\n",
       "  <thead>\n",
       "    <tr style=\"text-align: right;\">\n",
       "      <th></th>\n",
       "      <th>Time Stamp</th>\n",
       "      <th>Name</th>\n",
       "      <th>PTID</th>\n",
       "      <th>Load</th>\n",
       "      <th>Year</th>\n",
       "      <th>Month</th>\n",
       "      <th>Day</th>\n",
       "      <th>Minute</th>\n",
       "      <th>Hour</th>\n",
       "      <th>Max Temp</th>\n",
       "      <th>Min Temp</th>\n",
       "      <th>Max Wet Bulb</th>\n",
       "      <th>Min Wet Bulb</th>\n",
       "    </tr>\n",
       "  </thead>\n",
       "  <tbody>\n",
       "    <tr>\n",
       "      <th>10</th>\n",
       "      <td>2016-06-22 00:50:00</td>\n",
       "      <td>CAPITL</td>\n",
       "      <td>61757.0</td>\n",
       "      <td>1211.800049</td>\n",
       "      <td>2016</td>\n",
       "      <td>6</td>\n",
       "      <td>22</td>\n",
       "      <td>50</td>\n",
       "      <td>0</td>\n",
       "      <td>27.78</td>\n",
       "      <td>15.0</td>\n",
       "      <td>18.44</td>\n",
       "      <td>11.78</td>\n",
       "    </tr>\n",
       "    <tr>\n",
       "      <th>11</th>\n",
       "      <td>2016-06-22 00:55:00</td>\n",
       "      <td>CAPITL</td>\n",
       "      <td>61757.0</td>\n",
       "      <td>1193.400024</td>\n",
       "      <td>2016</td>\n",
       "      <td>6</td>\n",
       "      <td>22</td>\n",
       "      <td>55</td>\n",
       "      <td>0</td>\n",
       "      <td>27.78</td>\n",
       "      <td>15.0</td>\n",
       "      <td>18.44</td>\n",
       "      <td>11.78</td>\n",
       "    </tr>\n",
       "    <tr>\n",
       "      <th>12</th>\n",
       "      <td>2016-06-22 01:00:00</td>\n",
       "      <td>CAPITL</td>\n",
       "      <td>61757.0</td>\n",
       "      <td>1179.199951</td>\n",
       "      <td>2016</td>\n",
       "      <td>6</td>\n",
       "      <td>22</td>\n",
       "      <td>0</td>\n",
       "      <td>1</td>\n",
       "      <td>27.78</td>\n",
       "      <td>15.0</td>\n",
       "      <td>18.44</td>\n",
       "      <td>11.78</td>\n",
       "    </tr>\n",
       "    <tr>\n",
       "      <th>13</th>\n",
       "      <td>2016-06-22 01:05:00</td>\n",
       "      <td>CAPITL</td>\n",
       "      <td>61757.0</td>\n",
       "      <td>1180.099976</td>\n",
       "      <td>2016</td>\n",
       "      <td>6</td>\n",
       "      <td>22</td>\n",
       "      <td>5</td>\n",
       "      <td>1</td>\n",
       "      <td>27.78</td>\n",
       "      <td>15.0</td>\n",
       "      <td>18.44</td>\n",
       "      <td>11.78</td>\n",
       "    </tr>\n",
       "  </tbody>\n",
       "</table>\n",
       "</div>"
      ],
      "text/plain": [
       "            Time Stamp    Name     PTID         Load  Year  Month  Day  \\\n",
       "10 2016-06-22 00:50:00  CAPITL  61757.0  1211.800049  2016      6   22   \n",
       "11 2016-06-22 00:55:00  CAPITL  61757.0  1193.400024  2016      6   22   \n",
       "12 2016-06-22 01:00:00  CAPITL  61757.0  1179.199951  2016      6   22   \n",
       "13 2016-06-22 01:05:00  CAPITL  61757.0  1180.099976  2016      6   22   \n",
       "\n",
       "    Minute  Hour  Max Temp  Min Temp  Max Wet Bulb  Min Wet Bulb  \n",
       "10      50     0     27.78      15.0         18.44         11.78  \n",
       "11      55     0     27.78      15.0         18.44         11.78  \n",
       "12       0     1     27.78      15.0         18.44         11.78  \n",
       "13       5     1     27.78      15.0         18.44         11.78  "
      ]
     },
     "execution_count": 132,
     "metadata": {},
     "output_type": "execute_result"
    }
   ],
   "source": [
    "df[df[\"Name\"] == \"CAPITL\"].iloc[10:14]"
   ]
  },
  {
   "attachments": {},
   "cell_type": "markdown",
   "metadata": {},
   "source": [
    "Looking at the 'Minute' column we can see that in, in reality, there are only 5 minute between 55 - 0, however an ML algorithm would assume this as 55 - 0 = 55 minutes difference. \n",
    "\n",
    "A common method for encoding cyclical data is to transform the data into two dimensions using a sine and consine transformation.\n",
    "\n",
    "We can do that using the following transformations:\n",
    "\n",
    "\n",
    "$$x_{sin} = sin(\\frac{2*\\pi*x}{max(x)}) $$\n",
    "$$x_{cos} = cos(\\frac{2*\\pi*x}{max(x)}) $$"
   ]
  },
  {
   "cell_type": "code",
   "execution_count": 133,
   "metadata": {},
   "outputs": [],
   "source": [
    "def encode_sin_cos(\n",
    "    data: pd.DataFrame, col: str, max_val: Union[int, float]\n",
    ") -> pd.DataFrame:\n",
    "    \"\"\"Create two new columns within a given dataframe to encode specified cols with sin and cos transformations\n",
    "\n",
    "    Args:\n",
    "        data (pd.DataFrame): Dataframe containing cols to encode\n",
    "        col (str): column to encode (month, yeah, minute etc)\n",
    "        max_val (Union[int, float]): maximum value of the given column\n",
    "\n",
    "    Returns:\n",
    "        pd.DataFrame: original dataframe with additional columns\n",
    "    \"\"\"\n",
    "    data[col + \"_sin\"] = np.sin(2 * np.pi * data[col] / max_val)\n",
    "    data[col + \"_cos\"] = np.cos(2 * np.pi * data[col] / max_val)\n",
    "    return data"
   ]
  },
  {
   "cell_type": "code",
   "execution_count": 134,
   "metadata": {},
   "outputs": [],
   "source": [
    "df = encode_sin_cos(df, \"Month\", df[\"Month\"].max())\n",
    "df = encode_sin_cos(df, \"Day\", df[\"Day\"].max())\n",
    "df = encode_sin_cos(df, \"Minute\", df[\"Minute\"].max())\n",
    "df = encode_sin_cos(df, \"Hour\", df[\"Hour\"].max())"
   ]
  },
  {
   "attachments": {},
   "cell_type": "markdown",
   "metadata": {},
   "source": [
    "Lets see what the newly transformed columns look like. "
   ]
  },
  {
   "cell_type": "code",
   "execution_count": 135,
   "metadata": {},
   "outputs": [
    {
     "data": {
      "image/png": "[encoded data removed]",
      "text/plain": [
       "<Figure size 640x480 with 1 Axes>"
      ]
     },
     "metadata": {},
     "output_type": "display_data"
    }
   ],
   "source": [
    "ax = (\n",
    "    df[df[\"Name\"] == \"CAPITL\"]\n",
    "    .iloc[0:100]\n",
    "    .plot.scatter(\"Minute_sin\", \"Minute_cos\")\n",
    "    .set_aspect(\"equal\")\n",
    ")"
   ]
  },
  {
   "cell_type": "code",
   "execution_count": 136,
   "metadata": {},
   "outputs": [
    {
     "data": {
      "image/png": "[encoded data removed]",
      "text/plain": [
       "<Figure size 640x480 with 1 Axes>"
      ]
     },
     "metadata": {},
     "output_type": "display_data"
    }
   ],
   "source": [
    "ax = df[df[\"Name\"] == \"CAPITL\"].plot.scatter(\"Hour_sin\", \"Hour_cos\").set_aspect(\"equal\")"
   ]
  },
  {
   "attachments": {},
   "cell_type": "markdown",
   "metadata": {},
   "source": [
    "Exactly what we wanted, the data is now encoded as a cycle."
   ]
  },
  {
   "attachments": {},
   "cell_type": "markdown",
   "metadata": {},
   "source": [
    "# Dropping unused rows and columns"
   ]
  },
  {
   "cell_type": "code",
   "execution_count": 137,
   "metadata": {},
   "outputs": [],
   "source": [
    "df = df[~df[\"Load\"].isna()]\n",
    "df = df.drop([\"Name\"], axis=1, errors=\"ignore\").reset_index(\n",
    "    drop=True\n",
    ")  # Each name has a unique PTID"
   ]
  },
  {
   "attachments": {},
   "cell_type": "markdown",
   "metadata": {},
   "source": [
    "# Test Train Split\n",
    "\n",
    "The transformations we've done so far havent looked at any of the data other than individual rows, however for firther transformations (normalizing, handling missing values) we should first perform the test/train split to avoid any data leakage into our test set. \n",
    "\n",
    "Time series data means we need to be careful how we split the data. "
   ]
  },
  {
   "cell_type": "code",
   "execution_count": 138,
   "metadata": {},
   "outputs": [],
   "source": [
    "tss = TimeSeriesSplit(n_splits=2)\n",
    "df = df.set_index(\"Time Stamp\")\n",
    "df = df.sort_index()\n",
    "X = df.drop([\"Load\"], axis=1)\n",
    "y = df[\"Load\"]"
   ]
  },
  {
   "cell_type": "code",
   "execution_count": 139,
   "metadata": {},
   "outputs": [],
   "source": [
    "for train_index, test_index in tss.split(X):\n",
    "    X_train, X_test = X.iloc[train_index, :], X.iloc[test_index, :]\n",
    "    y_train, y_test = y.iloc[train_index], y.iloc[test_index]"
   ]
  },
  {
   "attachments": {},
   "cell_type": "markdown",
   "metadata": {},
   "source": [
    "We can check the test train split has worked correctly by plotting. "
   ]
  },
  {
   "cell_type": "code",
   "execution_count": 140,
   "metadata": {},
   "outputs": [
    {
     "data": {
      "text/plain": [
       "<Axes: xlabel='Time Stamp'>"
      ]
     },
     "execution_count": 140,
     "metadata": {},
     "output_type": "execute_result"
    },
    {
     "data": {
      "image/png": "[encoded data removed]",
      "text/plain": [
       "<Figure size 640x480 with 1 Axes>"
      ]
     },
     "metadata": {},
     "output_type": "display_data"
    }
   ],
   "source": [
    "y_train.groupby(\"Time Stamp\").mean().plot()\n",
    "y_test.groupby(\"Time Stamp\").mean().plot()"
   ]
  },
  {
   "attachments": {},
   "cell_type": "markdown",
   "metadata": {},
   "source": [
    "Orange is the test set (newer) and blue is the train set (older). \n",
    "\n",
    "Missing dates in the test set are due to dropping the incorrect minimum temperature rows"
   ]
  },
  {
   "cell_type": "code",
   "execution_count": 141,
   "metadata": {},
   "outputs": [],
   "source": [
    "X_test.to_parquet(X_TEST_SAVE_DIR)\n",
    "pd.DataFrame(y_test).to_parquet(y_TEST_SAVE_DIR)"
   ]
  },
  {
   "attachments": {},
   "cell_type": "markdown",
   "metadata": {},
   "source": [
    "# Preprocessing"
   ]
  },
  {
   "attachments": {},
   "cell_type": "markdown",
   "metadata": {},
   "source": [
    "Plan: \n",
    "1. Impute missing Min wet bulb temp\n",
    "2. Convert time stamp info to int\n",
    "3. Scale values\n"
   ]
  },
  {
   "cell_type": "code",
   "execution_count": 142,
   "metadata": {},
   "outputs": [],
   "source": [
    "df = df.reset_index()"
   ]
  },
  {
   "attachments": {},
   "cell_type": "markdown",
   "metadata": {},
   "source": [
    "## Imputing"
   ]
  },
  {
   "attachments": {},
   "cell_type": "markdown",
   "metadata": {},
   "source": [
    "I reduce the number of columns before using the iterative imputer because it can be very very slow, and I think there is enough information in the temperature columns to give decent results for min bulb temp anyway. "
   ]
  },
  {
   "cell_type": "code",
   "execution_count": 143,
   "metadata": {},
   "outputs": [],
   "source": [
    "imp = IterativeImputer(max_iter=5, random_state=0)\n",
    "X_train_temps = X_train[[\"Min Temp\", \"Max Temp\", \"Min Wet Bulb\", \"Max Wet Bulb\"]]\n",
    "X_train_non_temp_cols = [x for x in df.columns.to_list() if x not in X_train_temps]\n",
    "X_train_non_temp_cols.remove(\"Load\")\n",
    "X_train = X_train.reset_index()\n",
    "X_train_non_temp = X_train[X_train_non_temp_cols]\n",
    "imputed = imp.fit_transform(X_train_temps)"
   ]
  },
  {
   "cell_type": "code",
   "execution_count": 144,
   "metadata": {},
   "outputs": [],
   "source": [
    "X_train_imputed = pd.DataFrame(imputed, columns=X_train_temps.columns)\n",
    "X_train = pd.concat([X_train_imputed, X_train_non_temp], axis=1)\n",
    "assert X_train.isna().sum().sum() == 0"
   ]
  },
  {
   "cell_type": "code",
   "execution_count": 145,
   "metadata": {},
   "outputs": [
    {
     "data": {
      "text/plain": [
       "Text(0, 0.5, 'Min Wet Bulb')"
      ]
     },
     "execution_count": 145,
     "metadata": {},
     "output_type": "execute_result"
    },
    {
     "data": {
      "image/png": "[encoded data removed]",
      "text/plain": [
       "<Figure size 800x600 with 1 Axes>"
      ]
     },
     "metadata": {},
     "output_type": "display_data"
    }
   ],
   "source": [
    "fig, ax = plt.subplots(figsize=(8, 6))\n",
    "ax.scatter(x=X_train[\"Min Temp\"], y=X_train[\"Min Wet Bulb\"])\n",
    "ax.set_xlabel(\"Min Temp\")\n",
    "ax.set_ylabel(\"Min Wet Bulb\")"
   ]
  },
  {
   "attachments": {},
   "cell_type": "markdown",
   "metadata": {},
   "source": [
    "Looks like the imputer worked, no strange outlier values."
   ]
  },
  {
   "attachments": {},
   "cell_type": "markdown",
   "metadata": {},
   "source": [
    "## Handling Dates\n",
    "\n",
    "We can convert the timestamp object to ints, which is essentially the time data in seconds from January 1st, 1970."
   ]
  },
  {
   "cell_type": "code",
   "execution_count": 146,
   "metadata": {},
   "outputs": [],
   "source": [
    "X_train[\"Time Stamp\"] = X_train[\"Time Stamp\"].astype(int)"
   ]
  },
  {
   "attachments": {},
   "cell_type": "markdown",
   "metadata": {},
   "source": [
    "## Scaling"
   ]
  },
  {
   "cell_type": "code",
   "execution_count": 147,
   "metadata": {},
   "outputs": [],
   "source": [
    "transformer = StandardScaler()\n",
    "X_train_scaled = transformer.fit_transform(X_train)"
   ]
  },
  {
   "cell_type": "code",
   "execution_count": 148,
   "metadata": {},
   "outputs": [
    {
     "data": {
      "text/html": [
       "<div>\n",
       "<style scoped>\n",
       "    .dataframe tbody tr th:only-of-type {\n",
       "        vertical-align: middle;\n",
       "    }\n",
       "\n",
       "    .dataframe tbody tr th {\n",
       "        vertical-align: top;\n",
       "    }\n",
       "\n",
       "    .dataframe thead th {\n",
       "        text-align: right;\n",
       "    }\n",
       "</style>\n",
       "<table border=\"1\" class=\"dataframe\">\n",
       "  <thead>\n",
       "    <tr style=\"text-align: right;\">\n",
       "      <th></th>\n",
       "      <th>Min Temp</th>\n",
       "      <th>Max Temp</th>\n",
       "      <th>Min Wet Bulb</th>\n",
       "      <th>Max Wet Bulb</th>\n",
       "      <th>Time Stamp</th>\n",
       "      <th>PTID</th>\n",
       "      <th>Year</th>\n",
       "      <th>Month</th>\n",
       "      <th>Day</th>\n",
       "      <th>Minute</th>\n",
       "      <th>Hour</th>\n",
       "      <th>Month_sin</th>\n",
       "      <th>Month_cos</th>\n",
       "      <th>Day_sin</th>\n",
       "      <th>Day_cos</th>\n",
       "      <th>Minute_sin</th>\n",
       "      <th>Minute_cos</th>\n",
       "      <th>Hour_sin</th>\n",
       "      <th>Hour_cos</th>\n",
       "    </tr>\n",
       "  </thead>\n",
       "  <tbody>\n",
       "    <tr>\n",
       "      <th>0</th>\n",
       "      <td>1.577192</td>\n",
       "      <td>1.220707</td>\n",
       "      <td>1.486421</td>\n",
       "      <td>1.312482</td>\n",
       "      <td>-1.746592</td>\n",
       "      <td>1.292460</td>\n",
       "      <td>-1.805323</td>\n",
       "      <td>0.683529</td>\n",
       "      <td>-0.882119</td>\n",
       "      <td>-1.591839</td>\n",
       "      <td>-1.663427</td>\n",
       "      <td>-1.395712</td>\n",
       "      <td>-0.043601</td>\n",
       "      <td>1.400632</td>\n",
       "      <td>-0.047544</td>\n",
       "      <td>0.003247</td>\n",
       "      <td>1.37941</td>\n",
       "      <td>0.000644</td>\n",
       "      <td>1.332725</td>\n",
       "    </tr>\n",
       "    <tr>\n",
       "      <th>1</th>\n",
       "      <td>1.371559</td>\n",
       "      <td>1.140329</td>\n",
       "      <td>1.386233</td>\n",
       "      <td>1.242316</td>\n",
       "      <td>-1.746592</td>\n",
       "      <td>0.984731</td>\n",
       "      <td>-1.805323</td>\n",
       "      <td>0.683529</td>\n",
       "      <td>-0.882119</td>\n",
       "      <td>-1.591839</td>\n",
       "      <td>-1.663427</td>\n",
       "      <td>-1.395712</td>\n",
       "      <td>-0.043601</td>\n",
       "      <td>1.400632</td>\n",
       "      <td>-0.047544</td>\n",
       "      <td>0.003247</td>\n",
       "      <td>1.37941</td>\n",
       "      <td>0.000644</td>\n",
       "      <td>1.332725</td>\n",
       "    </tr>\n",
       "    <tr>\n",
       "      <th>2</th>\n",
       "      <td>1.188545</td>\n",
       "      <td>1.129804</td>\n",
       "      <td>1.186911</td>\n",
       "      <td>1.242316</td>\n",
       "      <td>-1.746592</td>\n",
       "      <td>0.061545</td>\n",
       "      <td>-1.805323</td>\n",
       "      <td>0.683529</td>\n",
       "      <td>-0.882119</td>\n",
       "      <td>-1.591839</td>\n",
       "      <td>-1.663427</td>\n",
       "      <td>-1.395712</td>\n",
       "      <td>-0.043601</td>\n",
       "      <td>1.400632</td>\n",
       "      <td>-0.047544</td>\n",
       "      <td>0.003247</td>\n",
       "      <td>1.37941</td>\n",
       "      <td>0.000644</td>\n",
       "      <td>1.332725</td>\n",
       "    </tr>\n",
       "    <tr>\n",
       "      <th>3</th>\n",
       "      <td>0.891405</td>\n",
       "      <td>0.800636</td>\n",
       "      <td>0.975988</td>\n",
       "      <td>0.960501</td>\n",
       "      <td>-1.746592</td>\n",
       "      <td>-0.553912</td>\n",
       "      <td>-1.805323</td>\n",
       "      <td>0.683529</td>\n",
       "      <td>-0.882119</td>\n",
       "      <td>-1.591839</td>\n",
       "      <td>-1.663427</td>\n",
       "      <td>-1.395712</td>\n",
       "      <td>-0.043601</td>\n",
       "      <td>1.400632</td>\n",
       "      <td>-0.047544</td>\n",
       "      <td>0.003247</td>\n",
       "      <td>1.37941</td>\n",
       "      <td>0.000644</td>\n",
       "      <td>1.332725</td>\n",
       "    </tr>\n",
       "    <tr>\n",
       "      <th>4</th>\n",
       "      <td>0.937673</td>\n",
       "      <td>0.829343</td>\n",
       "      <td>0.985479</td>\n",
       "      <td>0.960501</td>\n",
       "      <td>-1.746592</td>\n",
       "      <td>-0.246183</td>\n",
       "      <td>-1.805323</td>\n",
       "      <td>0.683529</td>\n",
       "      <td>-0.882119</td>\n",
       "      <td>-1.591839</td>\n",
       "      <td>-1.663427</td>\n",
       "      <td>-1.395712</td>\n",
       "      <td>-0.043601</td>\n",
       "      <td>1.400632</td>\n",
       "      <td>-0.047544</td>\n",
       "      <td>0.003247</td>\n",
       "      <td>1.37941</td>\n",
       "      <td>0.000644</td>\n",
       "      <td>1.332725</td>\n",
       "    </tr>\n",
       "  </tbody>\n",
       "</table>\n",
       "</div>"
      ],
      "text/plain": [
       "   Min Temp  Max Temp  Min Wet Bulb  Max Wet Bulb  Time Stamp      PTID  \\\n",
       "0  1.577192  1.220707      1.486421      1.312482   -1.746592  1.292460   \n",
       "1  1.371559  1.140329      1.386233      1.242316   -1.746592  0.984731   \n",
       "2  1.188545  1.129804      1.186911      1.242316   -1.746592  0.061545   \n",
       "3  0.891405  0.800636      0.975988      0.960501   -1.746592 -0.553912   \n",
       "4  0.937673  0.829343      0.985479      0.960501   -1.746592 -0.246183   \n",
       "\n",
       "       Year     Month       Day    Minute      Hour  Month_sin  Month_cos  \\\n",
       "0 -1.805323  0.683529 -0.882119 -1.591839 -1.663427  -1.395712  -0.043601   \n",
       "1 -1.805323  0.683529 -0.882119 -1.591839 -1.663427  -1.395712  -0.043601   \n",
       "2 -1.805323  0.683529 -0.882119 -1.591839 -1.663427  -1.395712  -0.043601   \n",
       "3 -1.805323  0.683529 -0.882119 -1.591839 -1.663427  -1.395712  -0.043601   \n",
       "4 -1.805323  0.683529 -0.882119 -1.591839 -1.663427  -1.395712  -0.043601   \n",
       "\n",
       "    Day_sin   Day_cos  Minute_sin  Minute_cos  Hour_sin  Hour_cos  \n",
       "0  1.400632 -0.047544    0.003247     1.37941  0.000644  1.332725  \n",
       "1  1.400632 -0.047544    0.003247     1.37941  0.000644  1.332725  \n",
       "2  1.400632 -0.047544    0.003247     1.37941  0.000644  1.332725  \n",
       "3  1.400632 -0.047544    0.003247     1.37941  0.000644  1.332725  \n",
       "4  1.400632 -0.047544    0.003247     1.37941  0.000644  1.332725  "
      ]
     },
     "execution_count": 148,
     "metadata": {},
     "output_type": "execute_result"
    }
   ],
   "source": [
    "X_train_scaled_df = pd.DataFrame(X_train_scaled, columns=X_train.columns)\n",
    "X_train = X_train_scaled_df.copy()\n",
    "del X_train_scaled\n",
    "X_train.head()"
   ]
  },
  {
   "attachments": {},
   "cell_type": "markdown",
   "metadata": {},
   "source": [
    "# Pipeline\n",
    "\n",
    "Now we have all the transformations completed we should put together a pipeline for easier transformations in future and for the test data. \n",
    "\n",
    "Recap:\n",
    "1. Impute missing Min wet bulb temp\n",
    "2. Convert time stamp info to int\n",
    "3. Scale values\n",
    "\n",
    "Normally this would take the form of a sklearn pipeline or columntransformer, but since we are doing some unsual transformations (imputing using only certain columns, modifying dates) we'll just create a custom class instead. \n"
   ]
  },
  {
   "cell_type": "code",
   "execution_count": 28,
   "metadata": {},
   "outputs": [],
   "source": [
    "class PreprocessingTransformer:\n",
    "    def __init__(self, df: pd.DataFrame):\n",
    "        self.df = df\n",
    "\n",
    "    # Rounding data\n",
    "\n",
    "    def round_data(self):\n",
    "        self.df[\"Max Temp\"] = self.df[\"Max Temp\"].round(2)\n",
    "        self.df[\"Min Temp\"] = self.df[\"Min Temp\"].round(2)\n",
    "        self.df[\"Max Wet Bulb\"] = self.df[\"Max Wet Bulb\"].round(2)\n",
    "        self.df[\"Min Wet Bulb\"] = self.df[\"Min Wet Bulb\"].round(2)\n",
    "\n",
    "    def drop_unused_cols(self):\n",
    "        self.df = self.df.drop(\n",
    "            [\"Name\"], axis=1, errors=\"ignore\"\n",
    "        ).reset_index()  # Each name has a unique PTID\n",
    "\n",
    "    # Cyclical Transformations\n",
    "    def encode_cyclical(self):\n",
    "        def encode_sin_cos(\n",
    "            data: pd.DataFrame, col: str, max_val: Union[int, float]\n",
    "        ) -> pd.DataFrame:\n",
    "            \"\"\"Create two new columns within a given dataframe to encode specified cols with sin and cos transformations\n",
    "\n",
    "            Args:\n",
    "                data (pd.DataFrame): Dataframe containing cols to encode\n",
    "                col (str): column to encode (month, yeah, minute etc)\n",
    "                max_val (Union[int, float]): maximum value of the given column\n",
    "\n",
    "            Returns:\n",
    "                pd.DataFrame: original dataframe with additional columns\n",
    "            \"\"\"\n",
    "            data[col + \"_sin\"] = np.sin(2 * np.pi * data[col] / max_val)\n",
    "            data[col + \"_cos\"] = np.cos(2 * np.pi * data[col] / max_val)\n",
    "            return data\n",
    "\n",
    "        self.df = encode_sin_cos(self.df, \"Month\", self.df[\"Month\"].max())\n",
    "        self.df = encode_sin_cos(self.df, \"Day\", self.df[\"Day\"].max())\n",
    "        self.df = encode_sin_cos(self.df, \"Minute\", self.df[\"Minute\"].max())\n",
    "        self.df = encode_sin_cos(self.df, \"Hour\", self.df[\"Hour\"].max())\n",
    "\n",
    "    # Handling dates\n",
    "    def convert_dates_to_int(self, date_col: str = \"Time Stamp\"):\n",
    "        self.df[date_col] = self.df[date_col].astype(int)\n",
    "\n",
    "    def convert_int_to_date(self, date_col: str = \"Time Stamp\"):\n",
    "        self.df[date_col] = pd.to_datetime(df[date_col])\n",
    "\n",
    "    # Imputing\n",
    "    def impute_missing_vals(self):\n",
    "        imp = IterativeImputer(max_iter=5, random_state=0)\n",
    "        df_temp = self.df[[\"Min Temp\", \"Max Temp\", \"Min Wet Bulb\", \"Max Wet Bulb\"]]\n",
    "        df_non_temp_cols = [x for x in self.df.columns.to_list() if x not in df_temp]\n",
    "        df_temp = df_temp.reset_index(drop=True)\n",
    "        df_non_temp = self.df[df_non_temp_cols]\n",
    "        imputed = imp.fit_transform(df_temp)\n",
    "\n",
    "        df_imputed = pd.DataFrame(imputed, columns=df_temp.columns)\n",
    "        self.df = pd.concat([df_imputed, df_non_temp], axis=1)\n",
    "        del df_imputed\n",
    "        del df_non_temp\n",
    "        assert self.df.isna().sum().sum() == 0\n",
    "\n",
    "    # Scaling\n",
    "    def scale_vals(self):\n",
    "        transformer = StandardScaler()\n",
    "        df_scaled = transformer.fit_transform(self.df)\n",
    "        self.df = pd.DataFrame(df_scaled, columns=self.df.columns)\n",
    "        del df_scaled"
   ]
  },
  {
   "attachments": {},
   "cell_type": "markdown",
   "metadata": {},
   "source": [
    "## Testing pipeline\n",
    "\n",
    "Recreating the manual transformations with the pipeline class"
   ]
  },
  {
   "cell_type": "code",
   "execution_count": 5,
   "metadata": {},
   "outputs": [],
   "source": [
    "df = pd.read_parquet(MERGED_LOAD_DIR)\n",
    "tss = TimeSeriesSplit(n_splits=2)\n",
    "df = df.set_index(\"Time Stamp\")\n",
    "df = df.sort_index()\n",
    "X = df.drop([\"Load\"], axis=1)\n",
    "y = df[\"Load\"]\n",
    "\n",
    "for train_index, test_index in tss.split(X):\n",
    "    X_train, X_test = X.iloc[train_index, :], X.iloc[test_index, :]\n",
    "    y_train, y_test = y.iloc[train_index], y.iloc[test_index]\n",
    "\n",
    "X_test.to_parquet(X_TEST_SAVE_DIR)\n",
    "pd.DataFrame(y_test).to_parquet(y_TEST_SAVE_DIR)\n",
    "pd.DataFrame(y_train).to_parquet(y_TRAIN_SAVE_DIR)"
   ]
  },
  {
   "cell_type": "code",
   "execution_count": 6,
   "metadata": {},
   "outputs": [
    {
     "data": {
      "text/plain": [
       "(9800114, 11)"
      ]
     },
     "execution_count": 6,
     "metadata": {},
     "output_type": "execute_result"
    }
   ],
   "source": [
    "X_train.shape"
   ]
  },
  {
   "cell_type": "code",
   "execution_count": 29,
   "metadata": {},
   "outputs": [],
   "source": [
    "X_train_preprocessor = PreprocessingTransformer(X_train)"
   ]
  },
  {
   "cell_type": "code",
   "execution_count": 30,
   "metadata": {},
   "outputs": [],
   "source": [
    "X_train_preprocessor.round_data()\n",
    "X_train_preprocessor.encode_cyclical()\n",
    "X_train_preprocessor.drop_unused_cols()\n",
    "X_train_preprocessor.impute_missing_vals()\n",
    "X_train_preprocessor.convert_dates_to_int()\n",
    "X_train_preprocessor.scale_vals()"
   ]
  },
  {
   "cell_type": "code",
   "execution_count": 32,
   "metadata": {},
   "outputs": [],
   "source": [
    "X_train_preprocessor.df.to_parquet(X_TRAIN_SAVE_DIR)"
   ]
  }
 ],
 "metadata": {
  "kernelspec": {
   "display_name": ".venv",
   "language": "python",
   "name": "python3"
  },
  "language_info": {
   "codemirror_mode": {
    "name": "ipython",
    "version": 3
   },
   "file_extension": ".py",
   "mimetype": "text/x-python",
   "name": "python",
   "nbconvert_exporter": "python",
   "pygments_lexer": "ipython3",
   "version": "3.9.16"
  },
  "orig_nbformat": 4
 },
 "nbformat": 4,
 "nbformat_minor": 2
}
