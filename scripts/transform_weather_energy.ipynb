{
 "cells": [
  {
   "cell_type": "code",
   "execution_count": 25,
   "metadata": {},
   "outputs": [],
   "source": [
    "from pathlib import Path\n",
    "import pandas as pd"
   ]
  },
  {
   "cell_type": "code",
   "execution_count": 66,
   "metadata": {},
   "outputs": [],
   "source": [
    "LOAD_LOAD_DIR = Path(\n",
    "    Path.cwd().parent, \"data.nosync\", \"transformed_data\", \"load_transformed.parquet\"\n",
    ")\n",
    "WEATHER_LOAD_DIR = Path(\n",
    "    Path.cwd().parent, \"data.nosync\", \"transformed_data\", \"weather_transformed.parquet\"\n",
    ")\n",
    "MERGED_SAVE_DIR = Path(\n",
    "    Path.cwd().parent, \"data.nosync\", \"transformed_data\", \"merged.parquet\"\n",
    ")"
   ]
  },
  {
   "cell_type": "code",
   "execution_count": 27,
   "metadata": {},
   "outputs": [],
   "source": [
    "if not MERGED_SAVE_DIR.exists:\n",
    "    weather_df = pd.read_parquet(WEATHER_LOAD_DIR)\n",
    "    load_df = pd.read_parquet(LOAD_LOAD_DIR)\n",
    "    load_df['Date'] = load_df['Time Stamp'].dt.date\n",
    "    load_df['Date'] = pd.to_datetime(load_df['Date'])\n",
    "    merged_df = load_df.merge(weather_df, left_on = ['Date', 'Name'], right_on=['Forecast Date','grid_zone'])\n",
    "    merged_df.to_parquet(MERGED_SAVE_DIR)\n",
    "else:\n",
    "    merged_df = pd.read_parquet(MERGED_SAVE_DIR)"
   ]
  },
  {
   "cell_type": "code",
   "execution_count": 67,
   "metadata": {},
   "outputs": [],
   "source": [
    "merged_df.to_parquet(MERGED_SAVE_DIR)"
   ]
  },
  {
   "cell_type": "code",
   "execution_count": null,
   "metadata": {},
   "outputs": [],
   "source": []
  }
 ],
 "metadata": {
  "kernelspec": {
   "display_name": ".venv",
   "language": "python",
   "name": "python3"
  },
  "language_info": {
   "codemirror_mode": {
    "name": "ipython",
    "version": 3
   },
   "file_extension": ".py",
   "mimetype": "text/x-python",
   "name": "python",
   "nbconvert_exporter": "python",
   "pygments_lexer": "ipython3",
   "version": "3.9.7"
  },
  "orig_nbformat": 4
 },
 "nbformat": 4,
 "nbformat_minor": 2
}
