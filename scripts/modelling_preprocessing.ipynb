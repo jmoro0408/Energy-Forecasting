{
 "cells": [
  {
   "cell_type": "code",
   "execution_count": 83,
   "metadata": {},
   "outputs": [],
   "source": [
    "from pathlib import Path\n",
    "from typing import Union\n",
    "import pandas as pd\n",
    "import seaborn as sns\n",
    "import matplotlib.pyplot as plt\n",
    "from sklearn.model_selection import TimeSeriesSplit\n",
    "import numpy as np\n",
    "from sklearn.experimental import enable_iterative_imputer\n",
    "from sklearn.impute import IterativeImputer\n",
    "sns.set_theme('paper')"
   ]
  },
  {
   "cell_type": "code",
   "execution_count": 62,
   "metadata": {},
   "outputs": [],
   "source": [
    "MERGED_LOAD_DIR = Path(\n",
    "    Path.cwd().parent, \"data.nosync\", \"transformed_data\", \"merged.parquet\"\n",
    ")\n",
    "X_TEST_SAVE_DIR = Path(\n",
    "    Path.cwd().parent, \"data.nosync\", \"transformed_data\", \"X_test.parquet\"\n",
    ")\n",
    "y_TEST_SAVE_DIR = Path(\n",
    "    Path.cwd().parent, \"data.nosync\", \"transformed_data\", \"y_test.parquet\"\n",
    ")"
   ]
  },
  {
   "cell_type": "code",
   "execution_count": 63,
   "metadata": {},
   "outputs": [],
   "source": [
    "df = pd.read_parquet(MERGED_LOAD_DIR)"
   ]
  },
  {
   "cell_type": "code",
   "execution_count": 64,
   "metadata": {},
   "outputs": [
    {
     "name": "stdout",
     "output_type": "stream",
     "text": [
      "<class 'pandas.core.frame.DataFrame'>\n",
      "RangeIndex: 15509980 entries, 0 to 15509979\n",
      "Data columns (total 13 columns):\n",
      " #   Column        Dtype         \n",
      "---  ------        -----         \n",
      " 0   Time Stamp    datetime64[ns]\n",
      " 1   Name          object        \n",
      " 2   PTID          float32       \n",
      " 3   Load          float32       \n",
      " 4   Year          int32         \n",
      " 5   Month         int32         \n",
      " 6   Day           int32         \n",
      " 7   Minute        int32         \n",
      " 8   Hour          int32         \n",
      " 9   Max Temp      float64       \n",
      " 10  Min Temp      float64       \n",
      " 11  Max Wet Bulb  float64       \n",
      " 12  Min Wet Bulb  float64       \n",
      "dtypes: datetime64[ns](1), float32(2), float64(4), int32(5), object(1)\n",
      "memory usage: 1.1+ GB\n"
     ]
    }
   ],
   "source": [
    "df.info()"
   ]
  },
  {
   "attachments": {},
   "cell_type": "markdown",
   "metadata": {},
   "source": [
    "Looks like all the datatypes are reasonable."
   ]
  },
  {
   "cell_type": "code",
   "execution_count": 65,
   "metadata": {},
   "outputs": [
    {
     "data": {
      "text/plain": [
       "Time Stamp      1550821\n",
       "Name                 10\n",
       "PTID                 10\n",
       "Load            2997727\n",
       "Year                 16\n",
       "Month                12\n",
       "Day                  31\n",
       "Minute               60\n",
       "Hour                 24\n",
       "Max Temp           3307\n",
       "Min Temp           3365\n",
       "Max Wet Bulb       2987\n",
       "Min Wet Bulb       3257\n",
       "dtype: int64"
      ]
     },
     "execution_count": 65,
     "metadata": {},
     "output_type": "execute_result"
    }
   ],
   "source": [
    "df.nunique()"
   ]
  },
  {
   "cell_type": "code",
   "execution_count": 66,
   "metadata": {},
   "outputs": [
    {
     "data": {
      "text/plain": [
       "{'CAPITL': 61757.0,\n",
       " 'CENTRL': 61754.0,\n",
       " 'DUNWOD': 61760.0,\n",
       " 'GENESE': 61753.0,\n",
       " 'HUD VL': 61758.0,\n",
       " 'LONGIL': 61762.0,\n",
       " 'MHK VL': 61756.0,\n",
       " 'N.Y.C.': 61761.0,\n",
       " 'NORTH': 61755.0,\n",
       " 'WEST': 61752.0}"
      ]
     },
     "execution_count": 66,
     "metadata": {},
     "output_type": "execute_result"
    }
   ],
   "source": [
    "name_ptid_mapping_df = df.groupby('Name').apply(lambda x: x['PTID'].unique())\n",
    "name_ptid_mapping = dict(zip(name_ptid_mapping_df.index, [x[0] for x in name_ptid_mapping_df.values]))\n",
    "name_ptid_mapping"
   ]
  },
  {
   "attachments": {},
   "cell_type": "markdown",
   "metadata": {},
   "source": [
    "Each 'Name' has a unique PTID assosciated with it, therefore we can drop one of these as they are perfectly correlated. Probably drop the name column as we would have to one hot encode this anyway and just use the PTID"
   ]
  },
  {
   "cell_type": "code",
   "execution_count": 67,
   "metadata": {},
   "outputs": [
    {
     "data": {
      "text/plain": [
       "Time Stamp           0\n",
       "Name                 0\n",
       "PTID                 0\n",
       "Load               357\n",
       "Year                 0\n",
       "Month                0\n",
       "Day                  0\n",
       "Minute               0\n",
       "Hour                 0\n",
       "Max Temp             0\n",
       "Min Temp             0\n",
       "Max Wet Bulb         0\n",
       "Min Wet Bulb    809810\n",
       "dtype: int64"
      ]
     },
     "execution_count": 67,
     "metadata": {},
     "output_type": "execute_result"
    }
   ],
   "source": [
    "df.isna().sum()"
   ]
  },
  {
   "attachments": {},
   "cell_type": "markdown",
   "metadata": {},
   "source": [
    "The missing load values will have to be dropped, but we should be able to impute the missing min wet bulb temp from the other columns. "
   ]
  },
  {
   "cell_type": "code",
   "execution_count": 68,
   "metadata": {},
   "outputs": [
    {
     "data": {
      "text/html": [
       "<div>\n",
       "<style scoped>\n",
       "    .dataframe tbody tr th:only-of-type {\n",
       "        vertical-align: middle;\n",
       "    }\n",
       "\n",
       "    .dataframe tbody tr th {\n",
       "        vertical-align: top;\n",
       "    }\n",
       "\n",
       "    .dataframe thead th {\n",
       "        text-align: right;\n",
       "    }\n",
       "</style>\n",
       "<table border=\"1\" class=\"dataframe\">\n",
       "  <thead>\n",
       "    <tr style=\"text-align: right;\">\n",
       "      <th></th>\n",
       "      <th>Time Stamp</th>\n",
       "      <th>Name</th>\n",
       "      <th>PTID</th>\n",
       "      <th>Load</th>\n",
       "      <th>Year</th>\n",
       "      <th>Month</th>\n",
       "      <th>Day</th>\n",
       "      <th>Minute</th>\n",
       "      <th>Hour</th>\n",
       "      <th>Max Temp</th>\n",
       "      <th>Min Temp</th>\n",
       "      <th>Max Wet Bulb</th>\n",
       "      <th>Min Wet Bulb</th>\n",
       "    </tr>\n",
       "  </thead>\n",
       "  <tbody>\n",
       "    <tr>\n",
       "      <th>0</th>\n",
       "      <td>2016-06-22 00:00:00</td>\n",
       "      <td>CAPITL</td>\n",
       "      <td>61757.0</td>\n",
       "      <td>1252.099976</td>\n",
       "      <td>2016</td>\n",
       "      <td>6</td>\n",
       "      <td>22</td>\n",
       "      <td>0</td>\n",
       "      <td>0</td>\n",
       "      <td>27.777778</td>\n",
       "      <td>15.0</td>\n",
       "      <td>18.444444</td>\n",
       "      <td>11.777778</td>\n",
       "    </tr>\n",
       "    <tr>\n",
       "      <th>1</th>\n",
       "      <td>2016-06-22 00:05:00</td>\n",
       "      <td>CAPITL</td>\n",
       "      <td>61757.0</td>\n",
       "      <td>1239.199951</td>\n",
       "      <td>2016</td>\n",
       "      <td>6</td>\n",
       "      <td>22</td>\n",
       "      <td>5</td>\n",
       "      <td>0</td>\n",
       "      <td>27.777778</td>\n",
       "      <td>15.0</td>\n",
       "      <td>18.444444</td>\n",
       "      <td>11.777778</td>\n",
       "    </tr>\n",
       "    <tr>\n",
       "      <th>2</th>\n",
       "      <td>2016-06-22 00:10:00</td>\n",
       "      <td>CAPITL</td>\n",
       "      <td>61757.0</td>\n",
       "      <td>1241.900024</td>\n",
       "      <td>2016</td>\n",
       "      <td>6</td>\n",
       "      <td>22</td>\n",
       "      <td>10</td>\n",
       "      <td>0</td>\n",
       "      <td>27.777778</td>\n",
       "      <td>15.0</td>\n",
       "      <td>18.444444</td>\n",
       "      <td>11.777778</td>\n",
       "    </tr>\n",
       "    <tr>\n",
       "      <th>3</th>\n",
       "      <td>2016-06-22 00:15:00</td>\n",
       "      <td>CAPITL</td>\n",
       "      <td>61757.0</td>\n",
       "      <td>1240.900024</td>\n",
       "      <td>2016</td>\n",
       "      <td>6</td>\n",
       "      <td>22</td>\n",
       "      <td>15</td>\n",
       "      <td>0</td>\n",
       "      <td>27.777778</td>\n",
       "      <td>15.0</td>\n",
       "      <td>18.444444</td>\n",
       "      <td>11.777778</td>\n",
       "    </tr>\n",
       "    <tr>\n",
       "      <th>4</th>\n",
       "      <td>2016-06-22 00:20:00</td>\n",
       "      <td>CAPITL</td>\n",
       "      <td>61757.0</td>\n",
       "      <td>1226.900024</td>\n",
       "      <td>2016</td>\n",
       "      <td>6</td>\n",
       "      <td>22</td>\n",
       "      <td>20</td>\n",
       "      <td>0</td>\n",
       "      <td>27.777778</td>\n",
       "      <td>15.0</td>\n",
       "      <td>18.444444</td>\n",
       "      <td>11.777778</td>\n",
       "    </tr>\n",
       "  </tbody>\n",
       "</table>\n",
       "</div>"
      ],
      "text/plain": [
       "           Time Stamp    Name     PTID         Load  Year  Month  Day  Minute  \\\n",
       "0 2016-06-22 00:00:00  CAPITL  61757.0  1252.099976  2016      6   22       0   \n",
       "1 2016-06-22 00:05:00  CAPITL  61757.0  1239.199951  2016      6   22       5   \n",
       "2 2016-06-22 00:10:00  CAPITL  61757.0  1241.900024  2016      6   22      10   \n",
       "3 2016-06-22 00:15:00  CAPITL  61757.0  1240.900024  2016      6   22      15   \n",
       "4 2016-06-22 00:20:00  CAPITL  61757.0  1226.900024  2016      6   22      20   \n",
       "\n",
       "   Hour   Max Temp  Min Temp  Max Wet Bulb  Min Wet Bulb  \n",
       "0     0  27.777778      15.0     18.444444     11.777778  \n",
       "1     0  27.777778      15.0     18.444444     11.777778  \n",
       "2     0  27.777778      15.0     18.444444     11.777778  \n",
       "3     0  27.777778      15.0     18.444444     11.777778  \n",
       "4     0  27.777778      15.0     18.444444     11.777778  "
      ]
     },
     "execution_count": 68,
     "metadata": {},
     "output_type": "execute_result"
    }
   ],
   "source": [
    "df.head()"
   ]
  },
  {
   "attachments": {},
   "cell_type": "markdown",
   "metadata": {},
   "source": [
    "# Rounding\n",
    "\n",
    "We dont need 6 significant figures for load and temperatures as the sensors are unlikely to be this accurate anyway, we can round these to help speed up our modelling. "
   ]
  },
  {
   "cell_type": "code",
   "execution_count": 69,
   "metadata": {},
   "outputs": [],
   "source": [
    "df['Load'] = df['Load'].round(2)\n",
    "df['Max Temp'] = df['Max Temp'].round(2)\n",
    "df['Min Temp'] = df['Min Temp'].round(2)\n",
    "df['Max Wet Bulb'] = df['Max Wet Bulb'].round(2)\n",
    "df['Min Wet Bulb'] = df['Min Wet Bulb'].round(2)"
   ]
  },
  {
   "attachments": {},
   "cell_type": "markdown",
   "metadata": {},
   "source": [
    "# Cyclical transformations\n",
    "\n",
    "Time features are cyclical in nature, however ML algorithms don't know this and assume that December (12) is very different to January (1). To remedy this we can apply sine/cosine transformations to the data to move the extremities closer together. \n",
    "\n",
    "This can happen before splitting into train/test as no other information from the dataset is required, so no data leakage. "
   ]
  },
  {
   "cell_type": "code",
   "execution_count": 70,
   "metadata": {},
   "outputs": [
    {
     "data": {
      "text/plain": [
       "<Axes: >"
      ]
     },
     "execution_count": 70,
     "metadata": {},
     "output_type": "execute_result"
    },
    {
     "data": {
      "image/png": "[encoded data removed]",
      "text/plain": [
       "<Figure size 640x480 with 1 Axes>"
      ]
     },
     "metadata": {},
     "output_type": "display_data"
    }
   ],
   "source": [
    "# Demonstrating the distribution of minutes prior to transformation\n",
    "df[df['Name'] == 'CAPITL'].iloc[0:100]['Minute'].plot()"
   ]
  },
  {
   "attachments": {},
   "cell_type": "markdown",
   "metadata": {},
   "source": [
    "To Further demonstrate the problem we can look at a subsample of the data"
   ]
  },
  {
   "cell_type": "code",
   "execution_count": 71,
   "metadata": {},
   "outputs": [
    {
     "data": {
      "text/html": [
       "<div>\n",
       "<style scoped>\n",
       "    .dataframe tbody tr th:only-of-type {\n",
       "        vertical-align: middle;\n",
       "    }\n",
       "\n",
       "    .dataframe tbody tr th {\n",
       "        vertical-align: top;\n",
       "    }\n",
       "\n",
       "    .dataframe thead th {\n",
       "        text-align: right;\n",
       "    }\n",
       "</style>\n",
       "<table border=\"1\" class=\"dataframe\">\n",
       "  <thead>\n",
       "    <tr style=\"text-align: right;\">\n",
       "      <th></th>\n",
       "      <th>Time Stamp</th>\n",
       "      <th>Name</th>\n",
       "      <th>PTID</th>\n",
       "      <th>Load</th>\n",
       "      <th>Year</th>\n",
       "      <th>Month</th>\n",
       "      <th>Day</th>\n",
       "      <th>Minute</th>\n",
       "      <th>Hour</th>\n",
       "      <th>Max Temp</th>\n",
       "      <th>Min Temp</th>\n",
       "      <th>Max Wet Bulb</th>\n",
       "      <th>Min Wet Bulb</th>\n",
       "    </tr>\n",
       "  </thead>\n",
       "  <tbody>\n",
       "    <tr>\n",
       "      <th>10</th>\n",
       "      <td>2016-06-22 00:50:00</td>\n",
       "      <td>CAPITL</td>\n",
       "      <td>61757.0</td>\n",
       "      <td>1211.800049</td>\n",
       "      <td>2016</td>\n",
       "      <td>6</td>\n",
       "      <td>22</td>\n",
       "      <td>50</td>\n",
       "      <td>0</td>\n",
       "      <td>27.78</td>\n",
       "      <td>15.0</td>\n",
       "      <td>18.44</td>\n",
       "      <td>11.78</td>\n",
       "    </tr>\n",
       "    <tr>\n",
       "      <th>11</th>\n",
       "      <td>2016-06-22 00:55:00</td>\n",
       "      <td>CAPITL</td>\n",
       "      <td>61757.0</td>\n",
       "      <td>1193.400024</td>\n",
       "      <td>2016</td>\n",
       "      <td>6</td>\n",
       "      <td>22</td>\n",
       "      <td>55</td>\n",
       "      <td>0</td>\n",
       "      <td>27.78</td>\n",
       "      <td>15.0</td>\n",
       "      <td>18.44</td>\n",
       "      <td>11.78</td>\n",
       "    </tr>\n",
       "    <tr>\n",
       "      <th>12</th>\n",
       "      <td>2016-06-22 01:00:00</td>\n",
       "      <td>CAPITL</td>\n",
       "      <td>61757.0</td>\n",
       "      <td>1179.199951</td>\n",
       "      <td>2016</td>\n",
       "      <td>6</td>\n",
       "      <td>22</td>\n",
       "      <td>0</td>\n",
       "      <td>1</td>\n",
       "      <td>27.78</td>\n",
       "      <td>15.0</td>\n",
       "      <td>18.44</td>\n",
       "      <td>11.78</td>\n",
       "    </tr>\n",
       "    <tr>\n",
       "      <th>13</th>\n",
       "      <td>2016-06-22 01:05:00</td>\n",
       "      <td>CAPITL</td>\n",
       "      <td>61757.0</td>\n",
       "      <td>1180.099976</td>\n",
       "      <td>2016</td>\n",
       "      <td>6</td>\n",
       "      <td>22</td>\n",
       "      <td>5</td>\n",
       "      <td>1</td>\n",
       "      <td>27.78</td>\n",
       "      <td>15.0</td>\n",
       "      <td>18.44</td>\n",
       "      <td>11.78</td>\n",
       "    </tr>\n",
       "  </tbody>\n",
       "</table>\n",
       "</div>"
      ],
      "text/plain": [
       "            Time Stamp    Name     PTID         Load  Year  Month  Day  \\\n",
       "10 2016-06-22 00:50:00  CAPITL  61757.0  1211.800049  2016      6   22   \n",
       "11 2016-06-22 00:55:00  CAPITL  61757.0  1193.400024  2016      6   22   \n",
       "12 2016-06-22 01:00:00  CAPITL  61757.0  1179.199951  2016      6   22   \n",
       "13 2016-06-22 01:05:00  CAPITL  61757.0  1180.099976  2016      6   22   \n",
       "\n",
       "    Minute  Hour  Max Temp  Min Temp  Max Wet Bulb  Min Wet Bulb  \n",
       "10      50     0     27.78      15.0         18.44         11.78  \n",
       "11      55     0     27.78      15.0         18.44         11.78  \n",
       "12       0     1     27.78      15.0         18.44         11.78  \n",
       "13       5     1     27.78      15.0         18.44         11.78  "
      ]
     },
     "execution_count": 71,
     "metadata": {},
     "output_type": "execute_result"
    }
   ],
   "source": [
    "df[df['Name'] == 'CAPITL'].iloc[10:14]"
   ]
  },
  {
   "attachments": {},
   "cell_type": "markdown",
   "metadata": {},
   "source": [
    "Looking at the 'Minute' column we can see that in, in reality, there are only 5 minute between 55 - 0, however an ML algorithm would assume this as 55 - 0 = 55 minutes difference. \n",
    "\n",
    "A common method for encoding cyclical data is to transform the data into two dimensions using a sine and consine transformation.\n",
    "\n",
    "We can do that using the following transformations:\n",
    "\n",
    "\n",
    "$$x_{sin} = sin(\\frac{2*\\pi*x}{max(x)}) $$\n",
    "$$x_{cos} = cos(\\frac{2*\\pi*x}{max(x)}) $$"
   ]
  },
  {
   "cell_type": "code",
   "execution_count": 72,
   "metadata": {},
   "outputs": [],
   "source": [
    "def encode_sin_cos(data:pd.DataFrame, col:str, max_val:Union[int, float]) -> pd.DataFrame:\n",
    "    \"\"\"Create two new columns within a given dataframe to encode specified cols with sin and cos transformations\n",
    "\n",
    "    Args:\n",
    "        data (pd.DataFrame): Dataframe containing cols to encode\n",
    "        col (str): column to encode (month, yeah, minute etc)\n",
    "        max_val (Union[int, float]): maximum value of the given column\n",
    "\n",
    "    Returns:\n",
    "        pd.DataFrame: original dataframe with additional columns\n",
    "    \"\"\"\n",
    "    data[col + '_sin'] = np.sin(2 * np.pi * data[col]/max_val)\n",
    "    data[col + '_cos'] = np.cos(2 * np.pi * data[col]/max_val)\n",
    "    return data"
   ]
  },
  {
   "cell_type": "code",
   "execution_count": 73,
   "metadata": {},
   "outputs": [],
   "source": [
    "df = encode_sin_cos(df, 'Month', df['Month'].max())\n",
    "df = encode_sin_cos(df, 'Day', df['Day'].max())\n",
    "df = encode_sin_cos(df, 'Minute', df['Minute'].max())\n",
    "df = encode_sin_cos(df, 'Hour', df['Hour'].max())"
   ]
  },
  {
   "attachments": {},
   "cell_type": "markdown",
   "metadata": {},
   "source": [
    "Lets see what the newly transformed columns look like. "
   ]
  },
  {
   "cell_type": "code",
   "execution_count": 74,
   "metadata": {},
   "outputs": [
    {
     "data": {
      "image/png": "[encoded data removed]",
      "text/plain": [
       "<Figure size 640x480 with 1 Axes>"
      ]
     },
     "metadata": {},
     "output_type": "display_data"
    }
   ],
   "source": [
    "ax = df[df['Name'] == 'CAPITL'].iloc[0:100].plot.scatter('Minute_sin', 'Minute_cos').set_aspect('equal')"
   ]
  },
  {
   "cell_type": "code",
   "execution_count": 75,
   "metadata": {},
   "outputs": [
    {
     "data": {
      "image/png": "[encoded data removed]",
      "text/plain": [
       "<Figure size 640x480 with 1 Axes>"
      ]
     },
     "metadata": {},
     "output_type": "display_data"
    }
   ],
   "source": [
    "ax = df[df['Name'] == 'CAPITL'].plot.scatter('Hour_sin', 'Hour_cos').set_aspect('equal')"
   ]
  },
  {
   "attachments": {},
   "cell_type": "markdown",
   "metadata": {},
   "source": [
    "Exactly what we wanted, the data is now encoded as a cycle."
   ]
  },
  {
   "attachments": {},
   "cell_type": "markdown",
   "metadata": {},
   "source": [
    "# Dropping unused rows and columns"
   ]
  },
  {
   "cell_type": "code",
   "execution_count": 76,
   "metadata": {},
   "outputs": [],
   "source": [
    "df = df[~df['Load'].isna()]\n",
    "df = df.drop(['Name'], axis = 1, errors = 'ignore').reset_index(drop = True) #Each name has a unique PTID"
   ]
  },
  {
   "attachments": {},
   "cell_type": "markdown",
   "metadata": {},
   "source": [
    "# Test Train Split\n",
    "\n",
    "The transformations we've done so far havent looked at any of the data other than individual rows, however for firther transformations (normalizing, handling missing values) we should first perform the test/train split to avoid any data leakage into our test set. \n",
    "\n",
    "Time series data means we need to be careful how we split the data. "
   ]
  },
  {
   "cell_type": "code",
   "execution_count": 77,
   "metadata": {},
   "outputs": [],
   "source": [
    "tss = TimeSeriesSplit(n_splits = 2)\n",
    "df = df.set_index('Time Stamp')\n",
    "df = df.sort_index()\n",
    "X = df.drop(['Load'], axis = 1)\n",
    "y = df['Load']"
   ]
  },
  {
   "cell_type": "code",
   "execution_count": 78,
   "metadata": {},
   "outputs": [],
   "source": [
    "for train_index, test_index in tss.split(X):\n",
    "    X_train, X_test = X.iloc[train_index, :], X.iloc[test_index,:]\n",
    "    y_train, y_test = y.iloc[train_index], y.iloc[test_index]"
   ]
  },
  {
   "attachments": {},
   "cell_type": "markdown",
   "metadata": {},
   "source": [
    "We can check the test train split has worked correctly by plotting. "
   ]
  },
  {
   "cell_type": "code",
   "execution_count": 79,
   "metadata": {},
   "outputs": [
    {
     "data": {
      "text/plain": [
       "<Axes: xlabel='Time Stamp'>"
      ]
     },
     "execution_count": 79,
     "metadata": {},
     "output_type": "execute_result"
    },
    {
     "data": {
      "image/png": "[encoded data removed]",
      "text/plain": [
       "<Figure size 640x480 with 1 Axes>"
      ]
     },
     "metadata": {},
     "output_type": "display_data"
    }
   ],
   "source": [
    "y_train.groupby('Time Stamp').mean().plot()\n",
    "y_test.groupby('Time Stamp').mean().plot()"
   ]
  },
  {
   "attachments": {},
   "cell_type": "markdown",
   "metadata": {},
   "source": [
    "Orange is the test set (newer) and blue is the train set (older)"
   ]
  },
  {
   "cell_type": "code",
   "execution_count": 80,
   "metadata": {},
   "outputs": [],
   "source": [
    "X_test.to_parquet(X_TEST_SAVE_DIR)\n",
    "pd.DataFrame(y_test).to_parquet(y_TEST_SAVE_DIR)"
   ]
  },
  {
   "attachments": {},
   "cell_type": "markdown",
   "metadata": {},
   "source": [
    "# Preprocessing"
   ]
  },
  {
   "attachments": {},
   "cell_type": "markdown",
   "metadata": {},
   "source": [
    "Plan: \n",
    "1. Impute missing Min wet bulb temp\n",
    "2. Normalize values\n",
    "3. Convert time stamp info to ordinal "
   ]
  },
  {
   "cell_type": "code",
   "execution_count": 81,
   "metadata": {},
   "outputs": [],
   "source": [
    "df = df.reset_index()"
   ]
  },
  {
   "attachments": {},
   "cell_type": "markdown",
   "metadata": {},
   "source": [
    "## Imputing"
   ]
  },
  {
   "cell_type": "code",
   "execution_count": 91,
   "metadata": {},
   "outputs": [
    {
     "data": {
      "text/plain": [
       "<matplotlib.collections.PathCollection at 0x7feaebdd7b80>"
      ]
     },
     "execution_count": 91,
     "metadata": {},
     "output_type": "execute_result"
    },
    {
     "data": {
      "image/png": "[encoded data removed]",
      "text/plain": [
       "<Figure size 800x600 with 1 Axes>"
      ]
     },
     "metadata": {},
     "output_type": "display_data"
    }
   ],
   "source": [
    "fig, ax = plt.subplots(figsize = (8,6))\n",
    "ax.scatter(x = df['Min Temp'], y = df['Min Wet Bulb'])"
   ]
  },
  {
   "cell_type": "code",
   "execution_count": 87,
   "metadata": {},
   "outputs": [
    {
     "ename": "KeyboardInterrupt",
     "evalue": "",
     "output_type": "error",
     "traceback": [
      "\u001b[0;31m---------------------------------------------------------------------------\u001b[0m",
      "\u001b[0;31mKeyboardInterrupt\u001b[0m                         Traceback (most recent call last)",
      "Cell \u001b[0;32mIn[87], line 2\u001b[0m\n\u001b[1;32m      1\u001b[0m imp \u001b[39m=\u001b[39m IterativeImputer(max_iter\u001b[39m=\u001b[39m\u001b[39m10\u001b[39m, random_state\u001b[39m=\u001b[39m\u001b[39m0\u001b[39m)\n\u001b[0;32m----> 2\u001b[0m imputed \u001b[39m=\u001b[39m imp\u001b[39m.\u001b[39;49mfit_transform(df\u001b[39m.\u001b[39;49mdrop(\u001b[39m'\u001b[39;49m\u001b[39mTime Stamp\u001b[39;49m\u001b[39m'\u001b[39;49m, axis \u001b[39m=\u001b[39;49m \u001b[39m1\u001b[39;49m))\n\u001b[1;32m      3\u001b[0m \u001b[39m# df_imputed = pd.DataFrame(imputed, columns=df.columns)\u001b[39;00m\n",
      "File \u001b[0;32m~/Documents/Python/Energy-Forecasting/.venv/lib/python3.9/site-packages/sklearn/utils/_set_output.py:140\u001b[0m, in \u001b[0;36m_wrap_method_output.<locals>.wrapped\u001b[0;34m(self, X, *args, **kwargs)\u001b[0m\n\u001b[1;32m    138\u001b[0m \u001b[39m@wraps\u001b[39m(f)\n\u001b[1;32m    139\u001b[0m \u001b[39mdef\u001b[39;00m \u001b[39mwrapped\u001b[39m(\u001b[39mself\u001b[39m, X, \u001b[39m*\u001b[39margs, \u001b[39m*\u001b[39m\u001b[39m*\u001b[39mkwargs):\n\u001b[0;32m--> 140\u001b[0m     data_to_wrap \u001b[39m=\u001b[39m f(\u001b[39mself\u001b[39;49m, X, \u001b[39m*\u001b[39;49margs, \u001b[39m*\u001b[39;49m\u001b[39m*\u001b[39;49mkwargs)\n\u001b[1;32m    141\u001b[0m     \u001b[39mif\u001b[39;00m \u001b[39misinstance\u001b[39m(data_to_wrap, \u001b[39mtuple\u001b[39m):\n\u001b[1;32m    142\u001b[0m         \u001b[39m# only wrap the first output for cross decomposition\u001b[39;00m\n\u001b[1;32m    143\u001b[0m         \u001b[39mreturn\u001b[39;00m (\n\u001b[1;32m    144\u001b[0m             _wrap_data_with_container(method, data_to_wrap[\u001b[39m0\u001b[39m], X, \u001b[39mself\u001b[39m),\n\u001b[1;32m    145\u001b[0m             \u001b[39m*\u001b[39mdata_to_wrap[\u001b[39m1\u001b[39m:],\n\u001b[1;32m    146\u001b[0m         )\n",
      "File \u001b[0;32m~/Documents/Python/Energy-Forecasting/.venv/lib/python3.9/site-packages/sklearn/impute/_iterative.py:704\u001b[0m, in \u001b[0;36mIterativeImputer.fit_transform\u001b[0;34m(self, X, y)\u001b[0m\n\u001b[1;32m    700\u001b[0m \u001b[39mself\u001b[39m\u001b[39m.\u001b[39mimputation_sequence_ \u001b[39m=\u001b[39m []\n\u001b[1;32m    702\u001b[0m \u001b[39mself\u001b[39m\u001b[39m.\u001b[39minitial_imputer_ \u001b[39m=\u001b[39m \u001b[39mNone\u001b[39;00m\n\u001b[0;32m--> 704\u001b[0m X, Xt, mask_missing_values, complete_mask \u001b[39m=\u001b[39m \u001b[39mself\u001b[39;49m\u001b[39m.\u001b[39;49m_initial_imputation(\n\u001b[1;32m    705\u001b[0m     X, in_fit\u001b[39m=\u001b[39;49m\u001b[39mTrue\u001b[39;49;00m\n\u001b[1;32m    706\u001b[0m )\n\u001b[1;32m    708\u001b[0m \u001b[39msuper\u001b[39m()\u001b[39m.\u001b[39m_fit_indicator(complete_mask)\n\u001b[1;32m    709\u001b[0m X_indicator \u001b[39m=\u001b[39m \u001b[39msuper\u001b[39m()\u001b[39m.\u001b[39m_transform_indicator(complete_mask)\n",
      "File \u001b[0;32m~/Documents/Python/Energy-Forecasting/.venv/lib/python3.9/site-packages/sklearn/impute/_iterative.py:618\u001b[0m, in \u001b[0;36mIterativeImputer._initial_imputation\u001b[0;34m(self, X, in_fit)\u001b[0m\n\u001b[1;32m    612\u001b[0m \u001b[39mif\u001b[39;00m \u001b[39mself\u001b[39m\u001b[39m.\u001b[39minitial_imputer_ \u001b[39mis\u001b[39;00m \u001b[39mNone\u001b[39;00m:\n\u001b[1;32m    613\u001b[0m     \u001b[39mself\u001b[39m\u001b[39m.\u001b[39minitial_imputer_ \u001b[39m=\u001b[39m SimpleImputer(\n\u001b[1;32m    614\u001b[0m         missing_values\u001b[39m=\u001b[39m\u001b[39mself\u001b[39m\u001b[39m.\u001b[39mmissing_values,\n\u001b[1;32m    615\u001b[0m         strategy\u001b[39m=\u001b[39m\u001b[39mself\u001b[39m\u001b[39m.\u001b[39minitial_strategy,\n\u001b[1;32m    616\u001b[0m         keep_empty_features\u001b[39m=\u001b[39m\u001b[39mself\u001b[39m\u001b[39m.\u001b[39mkeep_empty_features,\n\u001b[1;32m    617\u001b[0m     )\n\u001b[0;32m--> 618\u001b[0m     X_filled \u001b[39m=\u001b[39m \u001b[39mself\u001b[39;49m\u001b[39m.\u001b[39;49minitial_imputer_\u001b[39m.\u001b[39;49mfit_transform(X)\n\u001b[1;32m    619\u001b[0m \u001b[39melse\u001b[39;00m:\n\u001b[1;32m    620\u001b[0m     X_filled \u001b[39m=\u001b[39m \u001b[39mself\u001b[39m\u001b[39m.\u001b[39minitial_imputer_\u001b[39m.\u001b[39mtransform(X)\n",
      "File \u001b[0;32m~/Documents/Python/Energy-Forecasting/.venv/lib/python3.9/site-packages/sklearn/utils/_set_output.py:140\u001b[0m, in \u001b[0;36m_wrap_method_output.<locals>.wrapped\u001b[0;34m(self, X, *args, **kwargs)\u001b[0m\n\u001b[1;32m    138\u001b[0m \u001b[39m@wraps\u001b[39m(f)\n\u001b[1;32m    139\u001b[0m \u001b[39mdef\u001b[39;00m \u001b[39mwrapped\u001b[39m(\u001b[39mself\u001b[39m, X, \u001b[39m*\u001b[39margs, \u001b[39m*\u001b[39m\u001b[39m*\u001b[39mkwargs):\n\u001b[0;32m--> 140\u001b[0m     data_to_wrap \u001b[39m=\u001b[39m f(\u001b[39mself\u001b[39;49m, X, \u001b[39m*\u001b[39;49margs, \u001b[39m*\u001b[39;49m\u001b[39m*\u001b[39;49mkwargs)\n\u001b[1;32m    141\u001b[0m     \u001b[39mif\u001b[39;00m \u001b[39misinstance\u001b[39m(data_to_wrap, \u001b[39mtuple\u001b[39m):\n\u001b[1;32m    142\u001b[0m         \u001b[39m# only wrap the first output for cross decomposition\u001b[39;00m\n\u001b[1;32m    143\u001b[0m         \u001b[39mreturn\u001b[39;00m (\n\u001b[1;32m    144\u001b[0m             _wrap_data_with_container(method, data_to_wrap[\u001b[39m0\u001b[39m], X, \u001b[39mself\u001b[39m),\n\u001b[1;32m    145\u001b[0m             \u001b[39m*\u001b[39mdata_to_wrap[\u001b[39m1\u001b[39m:],\n\u001b[1;32m    146\u001b[0m         )\n",
      "File \u001b[0;32m~/Documents/Python/Energy-Forecasting/.venv/lib/python3.9/site-packages/sklearn/base.py:878\u001b[0m, in \u001b[0;36mTransformerMixin.fit_transform\u001b[0;34m(self, X, y, **fit_params)\u001b[0m\n\u001b[1;32m    874\u001b[0m \u001b[39m# non-optimized default implementation; override when a better\u001b[39;00m\n\u001b[1;32m    875\u001b[0m \u001b[39m# method is possible for a given clustering algorithm\u001b[39;00m\n\u001b[1;32m    876\u001b[0m \u001b[39mif\u001b[39;00m y \u001b[39mis\u001b[39;00m \u001b[39mNone\u001b[39;00m:\n\u001b[1;32m    877\u001b[0m     \u001b[39m# fit method of arity 1 (unsupervised transformation)\u001b[39;00m\n\u001b[0;32m--> 878\u001b[0m     \u001b[39mreturn\u001b[39;00m \u001b[39mself\u001b[39;49m\u001b[39m.\u001b[39;49mfit(X, \u001b[39m*\u001b[39;49m\u001b[39m*\u001b[39;49mfit_params)\u001b[39m.\u001b[39mtransform(X)\n\u001b[1;32m    879\u001b[0m \u001b[39melse\u001b[39;00m:\n\u001b[1;32m    880\u001b[0m     \u001b[39m# fit method of arity 2 (supervised transformation)\u001b[39;00m\n\u001b[1;32m    881\u001b[0m     \u001b[39mreturn\u001b[39;00m \u001b[39mself\u001b[39m\u001b[39m.\u001b[39mfit(X, y, \u001b[39m*\u001b[39m\u001b[39m*\u001b[39mfit_params)\u001b[39m.\u001b[39mtransform(X)\n",
      "File \u001b[0;32m~/Documents/Python/Energy-Forecasting/.venv/lib/python3.9/site-packages/sklearn/impute/_base.py:429\u001b[0m, in \u001b[0;36mSimpleImputer.fit\u001b[0;34m(self, X, y)\u001b[0m\n\u001b[1;32m    424\u001b[0m         \u001b[39mself\u001b[39m\u001b[39m.\u001b[39mstatistics_ \u001b[39m=\u001b[39m \u001b[39mself\u001b[39m\u001b[39m.\u001b[39m_sparse_fit(\n\u001b[1;32m    425\u001b[0m             X, \u001b[39mself\u001b[39m\u001b[39m.\u001b[39mstrategy, \u001b[39mself\u001b[39m\u001b[39m.\u001b[39mmissing_values, fill_value\n\u001b[1;32m    426\u001b[0m         )\n\u001b[1;32m    428\u001b[0m \u001b[39melse\u001b[39;00m:\n\u001b[0;32m--> 429\u001b[0m     \u001b[39mself\u001b[39m\u001b[39m.\u001b[39mstatistics_ \u001b[39m=\u001b[39m \u001b[39mself\u001b[39;49m\u001b[39m.\u001b[39;49m_dense_fit(\n\u001b[1;32m    430\u001b[0m         X, \u001b[39mself\u001b[39;49m\u001b[39m.\u001b[39;49mstrategy, \u001b[39mself\u001b[39;49m\u001b[39m.\u001b[39;49mmissing_values, fill_value\n\u001b[1;32m    431\u001b[0m     )\n\u001b[1;32m    433\u001b[0m \u001b[39mreturn\u001b[39;00m \u001b[39mself\u001b[39m\n",
      "File \u001b[0;32m~/Documents/Python/Energy-Forecasting/.venv/lib/python3.9/site-packages/sklearn/impute/_base.py:479\u001b[0m, in \u001b[0;36mSimpleImputer._dense_fit\u001b[0;34m(self, X, strategy, missing_values, fill_value)\u001b[0m\n\u001b[1;32m    477\u001b[0m \u001b[39mdef\u001b[39;00m \u001b[39m_dense_fit\u001b[39m(\u001b[39mself\u001b[39m, X, strategy, missing_values, fill_value):\n\u001b[1;32m    478\u001b[0m \u001b[39m    \u001b[39m\u001b[39m\"\"\"Fit the transformer on dense data.\"\"\"\u001b[39;00m\n\u001b[0;32m--> 479\u001b[0m     missing_mask \u001b[39m=\u001b[39m _get_mask(X, missing_values)\n\u001b[1;32m    480\u001b[0m     masked_X \u001b[39m=\u001b[39m ma\u001b[39m.\u001b[39mmasked_array(X, mask\u001b[39m=\u001b[39mmissing_mask)\n\u001b[1;32m    482\u001b[0m     \u001b[39msuper\u001b[39m()\u001b[39m.\u001b[39m_fit_indicator(missing_mask)\n",
      "File \u001b[0;32m~/Documents/Python/Energy-Forecasting/.venv/lib/python3.9/site-packages/sklearn/utils/_mask.py:53\u001b[0m, in \u001b[0;36m_get_mask\u001b[0;34m(X, value_to_mask)\u001b[0m\n\u001b[1;32m     34\u001b[0m \u001b[39m\u001b[39m\u001b[39m\"\"\"Compute the boolean mask X == value_to_mask.\u001b[39;00m\n\u001b[1;32m     35\u001b[0m \n\u001b[1;32m     36\u001b[0m \u001b[39mParameters\u001b[39;00m\n\u001b[0;32m   (...)\u001b[0m\n\u001b[1;32m     48\u001b[0m \u001b[39m    Missing mask.\u001b[39;00m\n\u001b[1;32m     49\u001b[0m \u001b[39m\"\"\"\u001b[39;00m\n\u001b[1;32m     50\u001b[0m \u001b[39mif\u001b[39;00m \u001b[39mnot\u001b[39;00m sp\u001b[39m.\u001b[39missparse(X):\n\u001b[1;32m     51\u001b[0m     \u001b[39m# For all cases apart of a sparse input where we need to reconstruct\u001b[39;00m\n\u001b[1;32m     52\u001b[0m     \u001b[39m# a sparse output\u001b[39;00m\n\u001b[0;32m---> 53\u001b[0m     \u001b[39mreturn\u001b[39;00m _get_dense_mask(X, value_to_mask)\n\u001b[1;32m     55\u001b[0m Xt \u001b[39m=\u001b[39m _get_dense_mask(X\u001b[39m.\u001b[39mdata, value_to_mask)\n\u001b[1;32m     57\u001b[0m sparse_constructor \u001b[39m=\u001b[39m sp\u001b[39m.\u001b[39mcsr_matrix \u001b[39mif\u001b[39;00m X\u001b[39m.\u001b[39mformat \u001b[39m==\u001b[39m \u001b[39m\"\u001b[39m\u001b[39mcsr\u001b[39m\u001b[39m\"\u001b[39m \u001b[39melse\u001b[39;00m sp\u001b[39m.\u001b[39mcsc_matrix\n",
      "File \u001b[0;32m~/Documents/Python/Energy-Forecasting/.venv/lib/python3.9/site-packages/sklearn/utils/_mask.py:20\u001b[0m, in \u001b[0;36m_get_dense_mask\u001b[0;34m(X, value_to_mask)\u001b[0m\n\u001b[1;32m     18\u001b[0m \u001b[39mif\u001b[39;00m is_scalar_nan(value_to_mask):\n\u001b[1;32m     19\u001b[0m     \u001b[39mif\u001b[39;00m X\u001b[39m.\u001b[39mdtype\u001b[39m.\u001b[39mkind \u001b[39m==\u001b[39m \u001b[39m\"\u001b[39m\u001b[39mf\u001b[39m\u001b[39m\"\u001b[39m:\n\u001b[0;32m---> 20\u001b[0m         Xt \u001b[39m=\u001b[39m np\u001b[39m.\u001b[39;49misnan(X)\n\u001b[1;32m     21\u001b[0m     \u001b[39melif\u001b[39;00m X\u001b[39m.\u001b[39mdtype\u001b[39m.\u001b[39mkind \u001b[39min\u001b[39;00m (\u001b[39m\"\u001b[39m\u001b[39mi\u001b[39m\u001b[39m\"\u001b[39m, \u001b[39m\"\u001b[39m\u001b[39mu\u001b[39m\u001b[39m\"\u001b[39m):\n\u001b[1;32m     22\u001b[0m         \u001b[39m# can't have NaNs in integer array.\u001b[39;00m\n\u001b[1;32m     23\u001b[0m         Xt \u001b[39m=\u001b[39m np\u001b[39m.\u001b[39mzeros(X\u001b[39m.\u001b[39mshape, dtype\u001b[39m=\u001b[39m\u001b[39mbool\u001b[39m)\n",
      "\u001b[0;31mKeyboardInterrupt\u001b[0m: "
     ]
    }
   ],
   "source": [
    "imp = IterativeImputer(max_iter=10, random_state=0)\n",
    "imputed = imp.fit_transform(df.drop('Time Stamp', axis = 1))\n",
    "# df_imputed = pd.DataFrame(imputed, columns=df.columns)"
   ]
  },
  {
   "cell_type": "code",
   "execution_count": 82,
   "metadata": {},
   "outputs": [
    {
     "data": {
      "text/html": [
       "<div>\n",
       "<style scoped>\n",
       "    .dataframe tbody tr th:only-of-type {\n",
       "        vertical-align: middle;\n",
       "    }\n",
       "\n",
       "    .dataframe tbody tr th {\n",
       "        vertical-align: top;\n",
       "    }\n",
       "\n",
       "    .dataframe thead th {\n",
       "        text-align: right;\n",
       "    }\n",
       "</style>\n",
       "<table border=\"1\" class=\"dataframe\">\n",
       "  <thead>\n",
       "    <tr style=\"text-align: right;\">\n",
       "      <th></th>\n",
       "      <th>Time Stamp</th>\n",
       "      <th>PTID</th>\n",
       "      <th>Load</th>\n",
       "      <th>Year</th>\n",
       "      <th>Month</th>\n",
       "      <th>Day</th>\n",
       "      <th>Minute</th>\n",
       "      <th>Hour</th>\n",
       "      <th>Max Temp</th>\n",
       "      <th>Min Temp</th>\n",
       "      <th>Max Wet Bulb</th>\n",
       "      <th>Min Wet Bulb</th>\n",
       "      <th>Month_sin</th>\n",
       "      <th>Month_cos</th>\n",
       "      <th>Day_sin</th>\n",
       "      <th>Day_cos</th>\n",
       "      <th>Minute_sin</th>\n",
       "      <th>Minute_cos</th>\n",
       "      <th>Hour_sin</th>\n",
       "      <th>Hour_cos</th>\n",
       "    </tr>\n",
       "  </thead>\n",
       "  <tbody>\n",
       "    <tr>\n",
       "      <th>0</th>\n",
       "      <td>2008-09-08</td>\n",
       "      <td>61758.0</td>\n",
       "      <td>974.400024</td>\n",
       "      <td>2008</td>\n",
       "      <td>9</td>\n",
       "      <td>8</td>\n",
       "      <td>0</td>\n",
       "      <td>0</td>\n",
       "      <td>26.67</td>\n",
       "      <td>16.89</td>\n",
       "      <td>20.78</td>\n",
       "      <td>15.83</td>\n",
       "      <td>-1.0</td>\n",
       "      <td>-1.836970e-16</td>\n",
       "      <td>0.998717</td>\n",
       "      <td>-0.050649</td>\n",
       "      <td>0.0</td>\n",
       "      <td>1.0</td>\n",
       "      <td>0.0</td>\n",
       "      <td>1.0</td>\n",
       "    </tr>\n",
       "    <tr>\n",
       "      <th>1</th>\n",
       "      <td>2008-09-08</td>\n",
       "      <td>61756.0</td>\n",
       "      <td>775.900024</td>\n",
       "      <td>2008</td>\n",
       "      <td>9</td>\n",
       "      <td>8</td>\n",
       "      <td>0</td>\n",
       "      <td>0</td>\n",
       "      <td>23.19</td>\n",
       "      <td>14.56</td>\n",
       "      <td>18.22</td>\n",
       "      <td>13.31</td>\n",
       "      <td>-1.0</td>\n",
       "      <td>-1.836970e-16</td>\n",
       "      <td>0.998717</td>\n",
       "      <td>-0.050649</td>\n",
       "      <td>0.0</td>\n",
       "      <td>1.0</td>\n",
       "      <td>0.0</td>\n",
       "      <td>1.0</td>\n",
       "    </tr>\n",
       "    <tr>\n",
       "      <th>2</th>\n",
       "      <td>2008-09-08</td>\n",
       "      <td>61762.0</td>\n",
       "      <td>2446.399902</td>\n",
       "      <td>2008</td>\n",
       "      <td>9</td>\n",
       "      <td>8</td>\n",
       "      <td>0</td>\n",
       "      <td>0</td>\n",
       "      <td>26.56</td>\n",
       "      <td>19.89</td>\n",
       "      <td>21.44</td>\n",
       "      <td>18.00</td>\n",
       "      <td>-1.0</td>\n",
       "      <td>-1.836970e-16</td>\n",
       "      <td>0.998717</td>\n",
       "      <td>-0.050649</td>\n",
       "      <td>0.0</td>\n",
       "      <td>1.0</td>\n",
       "      <td>0.0</td>\n",
       "      <td>1.0</td>\n",
       "    </tr>\n",
       "    <tr>\n",
       "      <th>3</th>\n",
       "      <td>2008-09-08</td>\n",
       "      <td>61752.0</td>\n",
       "      <td>1516.900024</td>\n",
       "      <td>2008</td>\n",
       "      <td>9</td>\n",
       "      <td>8</td>\n",
       "      <td>0</td>\n",
       "      <td>0</td>\n",
       "      <td>21.78</td>\n",
       "      <td>14.89</td>\n",
       "      <td>17.67</td>\n",
       "      <td>13.22</td>\n",
       "      <td>-1.0</td>\n",
       "      <td>-1.836970e-16</td>\n",
       "      <td>0.998717</td>\n",
       "      <td>-0.050649</td>\n",
       "      <td>0.0</td>\n",
       "      <td>1.0</td>\n",
       "      <td>0.0</td>\n",
       "      <td>1.0</td>\n",
       "    </tr>\n",
       "    <tr>\n",
       "      <th>4</th>\n",
       "      <td>2008-09-08</td>\n",
       "      <td>61755.0</td>\n",
       "      <td>703.000000</td>\n",
       "      <td>2008</td>\n",
       "      <td>9</td>\n",
       "      <td>8</td>\n",
       "      <td>0</td>\n",
       "      <td>0</td>\n",
       "      <td>22.89</td>\n",
       "      <td>14.11</td>\n",
       "      <td>18.22</td>\n",
       "      <td>13.22</td>\n",
       "      <td>-1.0</td>\n",
       "      <td>-1.836970e-16</td>\n",
       "      <td>0.998717</td>\n",
       "      <td>-0.050649</td>\n",
       "      <td>0.0</td>\n",
       "      <td>1.0</td>\n",
       "      <td>0.0</td>\n",
       "      <td>1.0</td>\n",
       "    </tr>\n",
       "  </tbody>\n",
       "</table>\n",
       "</div>"
      ],
      "text/plain": [
       "  Time Stamp     PTID         Load  Year  Month  Day  Minute  Hour  Max Temp  \\\n",
       "0 2008-09-08  61758.0   974.400024  2008      9    8       0     0     26.67   \n",
       "1 2008-09-08  61756.0   775.900024  2008      9    8       0     0     23.19   \n",
       "2 2008-09-08  61762.0  2446.399902  2008      9    8       0     0     26.56   \n",
       "3 2008-09-08  61752.0  1516.900024  2008      9    8       0     0     21.78   \n",
       "4 2008-09-08  61755.0   703.000000  2008      9    8       0     0     22.89   \n",
       "\n",
       "   Min Temp  Max Wet Bulb  Min Wet Bulb  Month_sin     Month_cos   Day_sin  \\\n",
       "0     16.89         20.78         15.83       -1.0 -1.836970e-16  0.998717   \n",
       "1     14.56         18.22         13.31       -1.0 -1.836970e-16  0.998717   \n",
       "2     19.89         21.44         18.00       -1.0 -1.836970e-16  0.998717   \n",
       "3     14.89         17.67         13.22       -1.0 -1.836970e-16  0.998717   \n",
       "4     14.11         18.22         13.22       -1.0 -1.836970e-16  0.998717   \n",
       "\n",
       "    Day_cos  Minute_sin  Minute_cos  Hour_sin  Hour_cos  \n",
       "0 -0.050649         0.0         1.0       0.0       1.0  \n",
       "1 -0.050649         0.0         1.0       0.0       1.0  \n",
       "2 -0.050649         0.0         1.0       0.0       1.0  \n",
       "3 -0.050649         0.0         1.0       0.0       1.0  \n",
       "4 -0.050649         0.0         1.0       0.0       1.0  "
      ]
     },
     "execution_count": 82,
     "metadata": {},
     "output_type": "execute_result"
    }
   ],
   "source": [
    "df.head()"
   ]
  },
  {
   "cell_type": "code",
   "execution_count": null,
   "metadata": {},
   "outputs": [],
   "source": []
  }
 ],
 "metadata": {
  "kernelspec": {
   "display_name": ".venv",
   "language": "python",
   "name": "python3"
  },
  "language_info": {
   "codemirror_mode": {
    "name": "ipython",
    "version": 3
   },
   "file_extension": ".py",
   "mimetype": "text/x-python",
   "name": "python",
   "nbconvert_exporter": "python",
   "pygments_lexer": "ipython3",
   "version": "3.9.16"
  },
  "orig_nbformat": 4
 },
 "nbformat": 4,
 "nbformat_minor": 2
}
